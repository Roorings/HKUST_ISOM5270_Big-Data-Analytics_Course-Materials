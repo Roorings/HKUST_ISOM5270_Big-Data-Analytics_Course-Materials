{
  "nbformat": 4,
  "nbformat_minor": 0,
  "metadata": {
    "colab": {
      "provenance": []
    },
    "kernelspec": {
      "name": "python3",
      "display_name": "Python 3"
    },
    "language_info": {
      "name": "python"
    }
  },
  "cells": [
    {
      "cell_type": "markdown",
      "source": [
        "# Homework 1: Data-driven decison making\n",
        "\n",
        "Read the case study *Select Collections, Inc.* included with this assignment. You will play a role similar to that of the summer intern, Marcos Kilduff. However, your assignment is not to predict `totalpay` for the observations in the test set. Instead, your task is to **decide** which of the accounts in the test set should be purchased and to **evaluate** the profits that your purchasing decisions could generate. Purchasing any individual account costs 25% of the account's balance (`cobal`)."
      ],
      "metadata": {
        "id": "heP30ZS0LyN6"
      }
    },
    {
      "cell_type": "code",
      "execution_count": 98,
      "metadata": {
        "id": "-uDpmDEFLqM1",
        "colab": {
          "base_uri": "https://localhost:8080/"
        },
        "outputId": "4a6bbc1c-4b8d-4922-cf73-7cf16086ee1f"
      },
      "outputs": [
        {
          "output_type": "stream",
          "name": "stdout",
          "text": [
            "Downloading...\n",
            "From: https://drive.google.com/uc?id=1Z66wSxIkkeJJoN-REG-D0_N2j8zmC52M\n",
            "To: /content/SC_Training_Data.csv\n",
            "100% 245k/245k [00:00<00:00, 72.7MB/s]\n",
            "Downloading...\n",
            "From: https://drive.google.com/uc?id=1S0G2OXd6V6RrkysAuq2XvkUAWzVNpaM3\n",
            "To: /content/SC_Test_Data.csv\n",
            "100% 232k/232k [00:00<00:00, 79.0MB/s]\n"
          ]
        }
      ],
      "source": [
        "import pandas as pd\n",
        "import numpy as np\n",
        "from sklearn.model_selection import train_test_split\n",
        "!gdown https://drive.google.com/uc?id=1Z66wSxIkkeJJoN-REG-D0_N2j8zmC52M\n",
        "!gdown https://drive.google.com/uc?id=1S0G2OXd6V6RrkysAuq2XvkUAWzVNpaM3\n",
        "\n",
        "df_train = pd.read_csv(\"SC_Training_Data.csv\")\n",
        "df_test = pd.read_csv(\"SC_Test_Data.csv\") #no tatalpay\n",
        "nickname = \"ThreeThree\""
      ]
    },
    {
      "cell_type": "markdown",
      "source": [
        "# Overview and preparing\n",
        "\n"
      ],
      "metadata": {
        "id": "QkY8oL9CWT7v"
      }
    },
    {
      "cell_type": "code",
      "source": [
        "# To see if the profit are correlated to states\n",
        "data = df_train.copy()\n",
        "data['profit'] = data['totalpay']-0.25*data['cobal']\n",
        "data.groupby('state')['profit'].mean()"
      ],
      "metadata": {
        "id": "wq780j6jUsI3",
        "colab": {
          "base_uri": "https://localhost:8080/"
        },
        "outputId": "3c63da66-6c98-4d94-b7f5-e3602ef4737a"
      },
      "execution_count": 87,
      "outputs": [
        {
          "output_type": "execute_result",
          "data": {
            "text/plain": [
              "state\n",
              "AK   -271.400000\n",
              "AL   -199.691860\n",
              "AR   -322.086207\n",
              "AZ    -57.683544\n",
              "CA     69.969375\n",
              "CO     67.463235\n",
              "CT    -62.483333\n",
              "DC   -382.444444\n",
              "DE   -550.450000\n",
              "FL    -86.617965\n",
              "GA    -76.473333\n",
              "HI    -87.037500\n",
              "IA   -311.130952\n",
              "ID   -752.272727\n",
              "IL     27.594828\n",
              "IN    415.325000\n",
              "KS   -298.509615\n",
              "KY    235.943878\n",
              "LA    183.088095\n",
              "MA    289.446429\n",
              "MD    -40.348485\n",
              "ME   -168.350000\n",
              "MI    252.246667\n",
              "MN    234.375000\n",
              "MO   -197.468750\n",
              "MS    -91.177419\n",
              "MT   -306.500000\n",
              "NC     75.447368\n",
              "ND   -744.750000\n",
              "NE   -386.833333\n",
              "NH   -644.833333\n",
              "NJ    179.147500\n",
              "NM   -216.375000\n",
              "NV   -389.331633\n",
              "NY     77.790640\n",
              "OH     83.765152\n",
              "OK     32.524194\n",
              "OR    -48.493902\n",
              "PA    -43.418067\n",
              "RI    -69.269231\n",
              "SC   -146.601695\n",
              "SD   -767.972222\n",
              "TN    316.250000\n",
              "TX   -293.115091\n",
              "UT   -599.062500\n",
              "VA    167.754902\n",
              "VT    300.062500\n",
              "WA    302.533708\n",
              "WI   -342.637097\n",
              "WV   -579.361111\n",
              "WY    602.406250\n",
              "Name: profit, dtype: float64"
            ]
          },
          "metadata": {},
          "execution_count": 87
        }
      ]
    },
    {
      "cell_type": "code",
      "source": [
        "# To see if the profit are correlated to rollout\n",
        "data.groupby('rollout')['profit'].mean()"
      ],
      "metadata": {
        "id": "gMHUCQ82aavu",
        "colab": {
          "base_uri": "https://localhost:8080/"
        },
        "outputId": "2cb60aff-89f4-4203-dd0b-f141db6003f0"
      },
      "execution_count": 88,
      "outputs": [
        {
          "output_type": "execute_result",
          "data": {
            "text/plain": [
              "rollout\n",
              "Associates    -79.700730\n",
              "Bank_Of_Am    134.572108\n",
              "Chase         -24.575893\n",
              "Chase_Bony   -244.271739\n",
              "Chase_Rev    -139.691624\n",
              "Discover       -0.083616\n",
              "Wells          17.111156\n",
              "Wells_FIB    -240.970930\n",
              "Name: profit, dtype: float64"
            ]
          },
          "metadata": {},
          "execution_count": 88
        }
      ]
    },
    {
      "cell_type": "code",
      "source": [
        "# get dummies first and calculate the profit as y\n",
        "df_train = pd.get_dummies(df_train, columns=['state','rollout'], drop_first=True) \n",
        "df_train['profit'] = df_train['totalpay']-0.25*df_train['cobal']\n",
        "df_train.drop(columns='totalpay', inplace=True)\n",
        "\n",
        "X_train = df_train.iloc[:,:-2]\n",
        "y_train = df_train.iloc[:,-1]\n",
        "\n",
        "#y = y_train>0\n",
        "y = pd.DataFrame(y_train)\n",
        "y['judge'] = y_train>0\n",
        "X = X_train.drop(columns=['accessscr', 'acctid']) # highly correlate to lnaccessscr"
      ],
      "metadata": {
        "id": "F7FrojMLUqFE"
      },
      "execution_count": 99,
      "outputs": []
    },
    {
      "cell_type": "markdown",
      "source": [
        "# Classification"
      ],
      "metadata": {
        "id": "-Y7mfKzTfQS8"
      }
    },
    {
      "cell_type": "code",
      "source": [
        "from sklearn.tree import DecisionTreeClassifier # Tree induction\n",
        "from sklearn.linear_model import LogisticRegression #\n",
        "from sklearn.svm import SVC #support vector machine\n",
        "\n",
        "from sklearn.model_selection import GridSearchCV\n",
        "from sklearn.metrics import make_scorer\n",
        "\n",
        "# Algorithms\n",
        "Tree_algorithm = DecisionTreeClassifier() \n",
        "SVM = SVC()\n",
        "logreg = LogisticRegression()\n",
        "\n",
        "# Grids\n",
        "tree_grid = {\"min_samples_leaf\": [2, 4, 8, 16, 32, 64], \n",
        "             'max_features': ['auto', 'sqrt', 'log2'],\n",
        "              'ccp_alpha': [0.1, .01, .001],\n",
        "              'max_depth' : [5, 6, 7, 8, 9],\n",
        "              'criterion' :['gini', 'entropy'], \n",
        "             'random_state': [0]\n",
        "             }\n",
        "svc_grid = [{'kernel': ['rbf'], 'gamma': [1e-3, 1e-4], 'C': [1, 10, 100], 'max_iter': [-1]}, \n",
        "                               {'kernel': ['linear'], 'C': [1, 10, 100], 'max_iter': [-1]}]\n",
        "log_grid={\"C\":np.logspace(-3,3,7)}\n",
        "\n",
        "# Conduct grid searches, since the units of money lost or earned are the same, the costs of FP&FN are considered the same\n",
        "tree_searcher = GridSearchCV(Tree_algorithm, tree_grid, cv=5, scoring = 'accuracy')\n",
        "SVC = GridSearchCV(SVM, svc_grid, cv=5, scoring = 'accuracy') # running time too long, drop this method\n",
        "logreg_cv=GridSearchCV(logreg, log_grid, cv=5, scoring = 'accuracy')\n",
        "\n",
        "# Report results\n",
        "best_algorithm_C = None\n",
        "best_score = None\n",
        "for searcher in [tree_searcher, logreg_cv]:\n",
        "    searcher.fit(X, y['judge'])\n",
        "    print(f\"Algorithm : {type(searcher.best_estimator_)}\")\n",
        "    print(f\"Best parameters: {searcher.best_params_}\")\n",
        "    print(f\"Best score (negative custom error): {searcher.best_score_:.2f}\")\n",
        "    print(f\"Profit: {y['profit'][searcher.best_estimator_.predict(X)>0].sum():.2f}\")\n",
        "    print(\"--------\")\n",
        "    if best_algorithm_C is None or best_score < searcher.best_score_:\n",
        "        best_algorithm_C = searcher.best_estimator_\n",
        "        best_paras = searcher.best_params_\n",
        "        best_score = searcher.best_score_"
      ],
      "metadata": {
        "id": "E4mOPNj6a7tR",
        "colab": {
          "base_uri": "https://localhost:8080/"
        },
        "outputId": "80f3bccc-ea6e-4651-fa08-055ff891779c"
      },
      "execution_count": null,
      "outputs": [
        {
          "output_type": "stream",
          "name": "stdout",
          "text": [
            "Algorithm : <class 'sklearn.tree._classes.DecisionTreeClassifier'>\n",
            "Best parameters: {'ccp_alpha': 0.001, 'criterion': 'entropy', 'max_depth': 5, 'max_features': 'log2', 'min_samples_leaf': 32, 'random_state': 0}\n",
            "Best score (negative custom error): 0.58\n",
            "Profit: 37818.75\n",
            "--------\n",
            "Algorithm : <class 'sklearn.linear_model._logistic.LogisticRegression'>\n",
            "Best parameters: {'C': 0.001}\n",
            "Best score (negative custom error): 0.58\n",
            "Profit: 58789.50\n",
            "--------\n"
          ]
        }
      ]
    },
    {
      "cell_type": "markdown",
      "source": [
        "# Regression"
      ],
      "metadata": {
        "id": "UdD2Q-ItOJHr"
      }
    },
    {
      "cell_type": "code",
      "source": [
        "X_train.head()"
      ],
      "metadata": {
        "colab": {
          "base_uri": "https://localhost:8080/",
          "height": 297
        },
        "id": "fS7A_xlPIiPG",
        "outputId": "c9f714fd-bf8b-4763-a552-5bf23a1fb5d2"
      },
      "execution_count": null,
      "outputs": [
        {
          "output_type": "execute_result",
          "data": {
            "text/plain": [
              "   acctid    zip  cobal  collscr  cs  accessscr  lnacscr  bureauscr  eaglemod  \\\n",
              "0       1  93313   1786  4013181   4     0.1992    -1.61        133        67   \n",
              "1       2  92154   2048  1015805   1     0.4376    -0.83        109         6   \n",
              "2       3  33319   5170  4013057   4     0.8140    -0.21        103        90   \n",
              "3       4  98115   4506  8012265   8     0.2978    -1.21        136        11   \n",
              "4       5  49615   2706  3013630   3     0.3722    -0.99        105        42   \n",
              "\n",
              "   numcalls  ...  state_WA  state_WI  state_WV  state_WY  rollout_Bank_Of_Am  \\\n",
              "0       104  ...         0         0         0         0                   0   \n",
              "1       233  ...         0         0         0         0                   0   \n",
              "2        28  ...         0         0         0         0                   0   \n",
              "3         8  ...         1         0         0         0                   1   \n",
              "4        45  ...         0         0         0         0                   0   \n",
              "\n",
              "   rollout_Chase  rollout_Chase_Bony  rollout_Chase_Rev  rollout_Discover  \\\n",
              "0              0                   0                  0                 0   \n",
              "1              0                   0                  0                 0   \n",
              "2              0                   0                  0                 0   \n",
              "3              0                   0                  0                 0   \n",
              "4              0                   0                  0                 0   \n",
              "\n",
              "   rollout_Wells  \n",
              "0              1  \n",
              "1              1  \n",
              "2              1  \n",
              "3              0  \n",
              "4              0  \n",
              "\n",
              "[5 rows x 67 columns]"
            ],
            "text/html": [
              "\n",
              "  <div id=\"df-ce5a2ac1-bbc6-470a-814c-84d3e5688d4d\">\n",
              "    <div class=\"colab-df-container\">\n",
              "      <div>\n",
              "<style scoped>\n",
              "    .dataframe tbody tr th:only-of-type {\n",
              "        vertical-align: middle;\n",
              "    }\n",
              "\n",
              "    .dataframe tbody tr th {\n",
              "        vertical-align: top;\n",
              "    }\n",
              "\n",
              "    .dataframe thead th {\n",
              "        text-align: right;\n",
              "    }\n",
              "</style>\n",
              "<table border=\"1\" class=\"dataframe\">\n",
              "  <thead>\n",
              "    <tr style=\"text-align: right;\">\n",
              "      <th></th>\n",
              "      <th>acctid</th>\n",
              "      <th>zip</th>\n",
              "      <th>cobal</th>\n",
              "      <th>collscr</th>\n",
              "      <th>cs</th>\n",
              "      <th>accessscr</th>\n",
              "      <th>lnacscr</th>\n",
              "      <th>bureauscr</th>\n",
              "      <th>eaglemod</th>\n",
              "      <th>numcalls</th>\n",
              "      <th>...</th>\n",
              "      <th>state_WA</th>\n",
              "      <th>state_WI</th>\n",
              "      <th>state_WV</th>\n",
              "      <th>state_WY</th>\n",
              "      <th>rollout_Bank_Of_Am</th>\n",
              "      <th>rollout_Chase</th>\n",
              "      <th>rollout_Chase_Bony</th>\n",
              "      <th>rollout_Chase_Rev</th>\n",
              "      <th>rollout_Discover</th>\n",
              "      <th>rollout_Wells</th>\n",
              "    </tr>\n",
              "  </thead>\n",
              "  <tbody>\n",
              "    <tr>\n",
              "      <th>0</th>\n",
              "      <td>1</td>\n",
              "      <td>93313</td>\n",
              "      <td>1786</td>\n",
              "      <td>4013181</td>\n",
              "      <td>4</td>\n",
              "      <td>0.1992</td>\n",
              "      <td>-1.61</td>\n",
              "      <td>133</td>\n",
              "      <td>67</td>\n",
              "      <td>104</td>\n",
              "      <td>...</td>\n",
              "      <td>0</td>\n",
              "      <td>0</td>\n",
              "      <td>0</td>\n",
              "      <td>0</td>\n",
              "      <td>0</td>\n",
              "      <td>0</td>\n",
              "      <td>0</td>\n",
              "      <td>0</td>\n",
              "      <td>0</td>\n",
              "      <td>1</td>\n",
              "    </tr>\n",
              "    <tr>\n",
              "      <th>1</th>\n",
              "      <td>2</td>\n",
              "      <td>92154</td>\n",
              "      <td>2048</td>\n",
              "      <td>1015805</td>\n",
              "      <td>1</td>\n",
              "      <td>0.4376</td>\n",
              "      <td>-0.83</td>\n",
              "      <td>109</td>\n",
              "      <td>6</td>\n",
              "      <td>233</td>\n",
              "      <td>...</td>\n",
              "      <td>0</td>\n",
              "      <td>0</td>\n",
              "      <td>0</td>\n",
              "      <td>0</td>\n",
              "      <td>0</td>\n",
              "      <td>0</td>\n",
              "      <td>0</td>\n",
              "      <td>0</td>\n",
              "      <td>0</td>\n",
              "      <td>1</td>\n",
              "    </tr>\n",
              "    <tr>\n",
              "      <th>2</th>\n",
              "      <td>3</td>\n",
              "      <td>33319</td>\n",
              "      <td>5170</td>\n",
              "      <td>4013057</td>\n",
              "      <td>4</td>\n",
              "      <td>0.8140</td>\n",
              "      <td>-0.21</td>\n",
              "      <td>103</td>\n",
              "      <td>90</td>\n",
              "      <td>28</td>\n",
              "      <td>...</td>\n",
              "      <td>0</td>\n",
              "      <td>0</td>\n",
              "      <td>0</td>\n",
              "      <td>0</td>\n",
              "      <td>0</td>\n",
              "      <td>0</td>\n",
              "      <td>0</td>\n",
              "      <td>0</td>\n",
              "      <td>0</td>\n",
              "      <td>1</td>\n",
              "    </tr>\n",
              "    <tr>\n",
              "      <th>3</th>\n",
              "      <td>4</td>\n",
              "      <td>98115</td>\n",
              "      <td>4506</td>\n",
              "      <td>8012265</td>\n",
              "      <td>8</td>\n",
              "      <td>0.2978</td>\n",
              "      <td>-1.21</td>\n",
              "      <td>136</td>\n",
              "      <td>11</td>\n",
              "      <td>8</td>\n",
              "      <td>...</td>\n",
              "      <td>1</td>\n",
              "      <td>0</td>\n",
              "      <td>0</td>\n",
              "      <td>0</td>\n",
              "      <td>1</td>\n",
              "      <td>0</td>\n",
              "      <td>0</td>\n",
              "      <td>0</td>\n",
              "      <td>0</td>\n",
              "      <td>0</td>\n",
              "    </tr>\n",
              "    <tr>\n",
              "      <th>4</th>\n",
              "      <td>5</td>\n",
              "      <td>49615</td>\n",
              "      <td>2706</td>\n",
              "      <td>3013630</td>\n",
              "      <td>3</td>\n",
              "      <td>0.3722</td>\n",
              "      <td>-0.99</td>\n",
              "      <td>105</td>\n",
              "      <td>42</td>\n",
              "      <td>45</td>\n",
              "      <td>...</td>\n",
              "      <td>0</td>\n",
              "      <td>0</td>\n",
              "      <td>0</td>\n",
              "      <td>0</td>\n",
              "      <td>0</td>\n",
              "      <td>0</td>\n",
              "      <td>0</td>\n",
              "      <td>0</td>\n",
              "      <td>0</td>\n",
              "      <td>0</td>\n",
              "    </tr>\n",
              "  </tbody>\n",
              "</table>\n",
              "<p>5 rows × 67 columns</p>\n",
              "</div>\n",
              "      <button class=\"colab-df-convert\" onclick=\"convertToInteractive('df-ce5a2ac1-bbc6-470a-814c-84d3e5688d4d')\"\n",
              "              title=\"Convert this dataframe to an interactive table.\"\n",
              "              style=\"display:none;\">\n",
              "        \n",
              "  <svg xmlns=\"http://www.w3.org/2000/svg\" height=\"24px\"viewBox=\"0 0 24 24\"\n",
              "       width=\"24px\">\n",
              "    <path d=\"M0 0h24v24H0V0z\" fill=\"none\"/>\n",
              "    <path d=\"M18.56 5.44l.94 2.06.94-2.06 2.06-.94-2.06-.94-.94-2.06-.94 2.06-2.06.94zm-11 1L8.5 8.5l.94-2.06 2.06-.94-2.06-.94L8.5 2.5l-.94 2.06-2.06.94zm10 10l.94 2.06.94-2.06 2.06-.94-2.06-.94-.94-2.06-.94 2.06-2.06.94z\"/><path d=\"M17.41 7.96l-1.37-1.37c-.4-.4-.92-.59-1.43-.59-.52 0-1.04.2-1.43.59L10.3 9.45l-7.72 7.72c-.78.78-.78 2.05 0 2.83L4 21.41c.39.39.9.59 1.41.59.51 0 1.02-.2 1.41-.59l7.78-7.78 2.81-2.81c.8-.78.8-2.07 0-2.86zM5.41 20L4 18.59l7.72-7.72 1.47 1.35L5.41 20z\"/>\n",
              "  </svg>\n",
              "      </button>\n",
              "      \n",
              "  <style>\n",
              "    .colab-df-container {\n",
              "      display:flex;\n",
              "      flex-wrap:wrap;\n",
              "      gap: 12px;\n",
              "    }\n",
              "\n",
              "    .colab-df-convert {\n",
              "      background-color: #E8F0FE;\n",
              "      border: none;\n",
              "      border-radius: 50%;\n",
              "      cursor: pointer;\n",
              "      display: none;\n",
              "      fill: #1967D2;\n",
              "      height: 32px;\n",
              "      padding: 0 0 0 0;\n",
              "      width: 32px;\n",
              "    }\n",
              "\n",
              "    .colab-df-convert:hover {\n",
              "      background-color: #E2EBFA;\n",
              "      box-shadow: 0px 1px 2px rgba(60, 64, 67, 0.3), 0px 1px 3px 1px rgba(60, 64, 67, 0.15);\n",
              "      fill: #174EA6;\n",
              "    }\n",
              "\n",
              "    [theme=dark] .colab-df-convert {\n",
              "      background-color: #3B4455;\n",
              "      fill: #D2E3FC;\n",
              "    }\n",
              "\n",
              "    [theme=dark] .colab-df-convert:hover {\n",
              "      background-color: #434B5C;\n",
              "      box-shadow: 0px 1px 3px 1px rgba(0, 0, 0, 0.15);\n",
              "      filter: drop-shadow(0px 1px 2px rgba(0, 0, 0, 0.3));\n",
              "      fill: #FFFFFF;\n",
              "    }\n",
              "  </style>\n",
              "\n",
              "      <script>\n",
              "        const buttonEl =\n",
              "          document.querySelector('#df-ce5a2ac1-bbc6-470a-814c-84d3e5688d4d button.colab-df-convert');\n",
              "        buttonEl.style.display =\n",
              "          google.colab.kernel.accessAllowed ? 'block' : 'none';\n",
              "\n",
              "        async function convertToInteractive(key) {\n",
              "          const element = document.querySelector('#df-ce5a2ac1-bbc6-470a-814c-84d3e5688d4d');\n",
              "          const dataTable =\n",
              "            await google.colab.kernel.invokeFunction('convertToInteractive',\n",
              "                                                     [key], {});\n",
              "          if (!dataTable) return;\n",
              "\n",
              "          const docLinkHtml = 'Like what you see? Visit the ' +\n",
              "            '<a target=\"_blank\" href=https://colab.research.google.com/notebooks/data_table.ipynb>data table notebook</a>'\n",
              "            + ' to learn more about interactive tables.';\n",
              "          element.innerHTML = '';\n",
              "          dataTable['output_type'] = 'display_data';\n",
              "          await google.colab.output.renderOutput(dataTable, element);\n",
              "          const docLink = document.createElement('div');\n",
              "          docLink.innerHTML = docLinkHtml;\n",
              "          element.appendChild(docLink);\n",
              "        }\n",
              "      </script>\n",
              "    </div>\n",
              "  </div>\n",
              "  "
            ]
          },
          "metadata": {},
          "execution_count": 48
        }
      ]
    },
    {
      "cell_type": "code",
      "source": [
        "from pandas.core.common import random_state\n",
        "from sklearn.model_selection import GridSearchCV\n",
        "from sklearn.metrics import make_scorer\n",
        "from sklearn.linear_model import Ridge\n",
        "from sklearn.linear_model import Lasso\n",
        "from sklearn.tree import DecisionTreeRegressor\n",
        "\n",
        "# Algorithms\n",
        "ridge_algorithm = Ridge()\n",
        "lasso_algorithm = Lasso()\n",
        "tree_algorithm = DecisionTreeRegressor()\n",
        "\n",
        "# Grids\n",
        "lin_grid = {\"alpha\": [10**i for i in np.arange(0.9, 5, 0.1)]}\n",
        "tree_grid = {\"min_samples_leaf\": range(1, 67, 3), \n",
        "             \"criterion\":['squared_error', 'absolute_error', 'friedman_mse']#\n",
        "             }\n",
        "\n",
        "# Conduct grid searches\n",
        "tree_searcher = GridSearchCV(tree_algorithm, tree_grid, cv=5, scoring = 'r2')\n",
        "ridge_searcher = GridSearchCV(ridge_algorithm, lin_grid, cv=5, scoring = 'r2')\n",
        "lasso_searcher = GridSearchCV(lasso_algorithm, lin_grid, cv=5, scoring = 'r2')\n",
        "\n",
        "# Report results\n",
        "best_algorithm = None\n",
        "best_score = None\n",
        "for searcher in [tree_searcher, ridge_searcher, lasso_searcher]: \n",
        "    searcher.fit(X_train, y_train)\n",
        "    print(f\"Algorithm : {type(searcher.best_estimator_)}\")\n",
        "    print(f\"Best parameters: {searcher.best_params_}\")\n",
        "    print(f\"Best score: {searcher.best_score_:.2f}\")\n",
        "    print(f\"Total Profit: {y_train[searcher.best_estimator_.predict(X_train)>0].sum()}\")\n",
        "    print(\"--------\")\n",
        "    if best_algorithm is None or best_score < searcher.best_score_:\n",
        "        best_algorithm = searcher.best_estimator_\n",
        "        best_paras = searcher.best_params_\n",
        "        best_score = searcher.best_score_"
      ],
      "metadata": {
        "colab": {
          "base_uri": "https://localhost:8080/"
        },
        "id": "-bVzYETByaYG",
        "outputId": "b7b4e557-f264-47cc-9f87-0a27988bf297"
      },
      "execution_count": 100,
      "outputs": [
        {
          "output_type": "stream",
          "name": "stdout",
          "text": [
            "Algorithm : <class 'sklearn.tree._classes.DecisionTreeRegressor'>\n",
            "Best parameters: {'criterion': 'squared_error', 'min_samples_leaf': 55}\n",
            "Best score: 0.05\n",
            "Total Profit: 555232.75\n",
            "--------\n",
            "Algorithm : <class 'sklearn.linear_model._ridge.Ridge'>\n",
            "Best parameters: {'alpha': 31.622776601683793}\n",
            "Best score: 0.09\n",
            "Total Profit: 456597.75\n",
            "--------\n",
            "Algorithm : <class 'sklearn.linear_model._coordinate_descent.Lasso'>\n",
            "Best parameters: {'alpha': 7.943282347242816}\n",
            "Best score: 0.08\n",
            "Total Profit: 410145.5\n",
            "--------\n"
          ]
        }
      ]
    },
    {
      "cell_type": "code",
      "source": [
        "y_train"
      ],
      "metadata": {
        "colab": {
          "base_uri": "https://localhost:8080/"
        },
        "id": "4tsUiYjVun9H",
        "outputId": "1ac491d4-fcf7-45e6-b826-4dbcfa2d754b"
      },
      "execution_count": null,
      "outputs": [
        {
          "output_type": "execute_result",
          "data": {
            "text/plain": [
              "0        -86.50\n",
              "1       -212.00\n",
              "2      -1282.50\n",
              "3       1423.50\n",
              "4       1323.50\n",
              "         ...   \n",
              "3565    1024.75\n",
              "3566    -390.75\n",
              "3567    -692.75\n",
              "3568     197.25\n",
              "3569     541.00\n",
              "Name: profit, Length: 3570, dtype: float64"
            ]
          },
          "metadata": {},
          "execution_count": 50
        }
      ]
    },
    {
      "cell_type": "code",
      "source": [
        "import statsmodels.api as sm\n",
        "model_L = sm.OLS(y_train,sm.add_constant(X_train.drop(columns = ['accessscr', 'acctid'])))\n",
        "results = model_L.fit()\n",
        "print(results.summary())\n",
        "amount = results.predict(sm.add_constant(X_train.drop(columns = ['accessscr', 'acctid'])))\n",
        "print(y_train[amount > 0].sum(), y_train[amount > 0].sum()/y_train[y['judge']].sum())"
      ],
      "metadata": {
        "colab": {
          "base_uri": "https://localhost:8080/"
        },
        "id": "sK9xj66wKJY9",
        "outputId": "59524ae3-6bda-49be-c9e3-9cbd58284de6"
      },
      "execution_count": 101,
      "outputs": [
        {
          "output_type": "stream",
          "name": "stdout",
          "text": [
            "                            OLS Regression Results                            \n",
            "==============================================================================\n",
            "Dep. Variable:                 profit   R-squared:                       0.122\n",
            "Model:                            OLS   Adj. R-squared:                  0.105\n",
            "Method:                 Least Squares   F-statistic:                     7.457\n",
            "Date:                Wed, 23 Nov 2022   Prob (F-statistic):           1.87e-60\n",
            "Time:                        12:57:11   Log-Likelihood:                -29526.\n",
            "No. Observations:                3570   AIC:                         5.918e+04\n",
            "Df Residuals:                    3504   BIC:                         5.959e+04\n",
            "Df Model:                          65                                         \n",
            "Covariance Type:            nonrobust                                         \n",
            "======================================================================================\n",
            "                         coef    std err          t      P>|t|      [0.025      0.975]\n",
            "--------------------------------------------------------------------------------------\n",
            "const               -739.2549   1435.397     -0.515      0.607   -3553.553    2075.044\n",
            "zip                    0.0094      0.014      0.674      0.500      -0.018       0.037\n",
            "cobal                 -0.1108      0.007    -15.108      0.000      -0.125      -0.096\n",
            "collscr            -7.472e-05    7.9e-05     -0.946      0.344      -0.000    8.02e-05\n",
            "cs                    48.9754     79.036      0.620      0.536    -105.985     203.936\n",
            "lnacscr              -16.6357     16.000     -1.040      0.299     -48.006      14.734\n",
            "bureauscr              0.1579      1.017      0.155      0.877      -1.836       2.152\n",
            "eaglemod              -0.0704      0.563     -0.125      0.901      -1.175       1.034\n",
            "numcalls              -0.6676      0.214     -3.122      0.002      -1.087      -0.248\n",
            "numrpcs              -19.1155      4.844     -3.946      0.000     -28.613      -9.618\n",
            "state_AL             673.5688    955.450      0.705      0.481   -1199.725    2546.863\n",
            "state_AR             196.6503    521.271      0.377      0.706    -825.374    1218.675\n",
            "state_AZ             373.4739    379.845      0.983      0.326    -371.267    1118.215\n",
            "state_CA             382.1438    320.761      1.191      0.234    -246.754    1011.041\n",
            "state_CO             471.3189    438.041      1.076      0.282    -387.522    1330.160\n",
            "state_CT            1189.3455   1353.734      0.879      0.380   -1464.841    3843.532\n",
            "state_DC             748.4390   1200.762      0.623      0.533   -1605.824    3102.702\n",
            "state_DE             670.2607   1235.470      0.543      0.587   -1752.053    3092.574\n",
            "state_FL             850.1481    980.559      0.867      0.386   -1072.376    2772.672\n",
            "state_GA             839.9415   1018.852      0.824      0.410   -1157.661    2837.544\n",
            "state_HI             184.1620    373.376      0.493      0.622    -547.894     916.218\n",
            "state_IA             523.8535    767.064      0.683      0.495    -980.083    2027.790\n",
            "state_ID            -114.8559    475.781     -0.241      0.809   -1047.692     817.980\n",
            "state_IL             693.4096    629.677      1.101      0.271    -541.162    1927.981\n",
            "state_IN            1351.9268    816.999      1.655      0.098    -249.915    2953.769\n",
            "state_KS             413.1126    587.407      0.703      0.482    -738.582    1564.808\n",
            "state_KY            1095.4971    888.463      1.233      0.218    -646.459    2837.454\n",
            "state_LA             702.5566    517.738      1.357      0.175    -312.543    1717.656\n",
            "state_MA            1491.4634   1407.299      1.060      0.289   -1267.745    4250.672\n",
            "state_MD             991.2363   1149.010      0.863      0.388   -1261.559    3244.032\n",
            "state_ME            1077.3142   1391.890      0.774      0.439   -1651.682    3806.310\n",
            "state_MI            1036.1084    785.432      1.319      0.187    -503.841    2576.058\n",
            "state_MN             838.0418    720.363      1.163      0.245    -574.331    2250.415\n",
            "state_MO             397.2632    595.429      0.667      0.505    -770.158    1564.685\n",
            "state_MS             750.0409    918.086      0.817      0.414   -1049.996    2550.078\n",
            "state_MT             452.6773    845.892      0.535      0.593   -1205.814    2111.169\n",
            "state_NC             981.8514   1055.302      0.930      0.352   -1087.218    3050.921\n",
            "state_ND            -145.7947   1159.977     -0.126      0.900   -2420.093    2128.504\n",
            "state_NE             279.6600    661.895      0.423      0.673   -1018.078    1577.398\n",
            "state_NH             630.8515   1421.780      0.444      0.657   -2156.749    3418.452\n",
            "state_NJ            1314.5289   1327.889      0.990      0.322   -1288.985    3918.042\n",
            "state_NM             124.9272    423.166      0.295      0.768    -704.749     954.603\n",
            "state_NV             138.4482    365.270      0.379      0.705    -577.716     854.612\n",
            "state_NY            1192.3781   1272.308      0.937      0.349   -1302.161    3686.917\n",
            "state_OH             861.1591    838.805      1.027      0.305    -783.437    2505.755\n",
            "state_OK             447.0240    504.043      0.887      0.375    -541.223    1435.271\n",
            "state_OR             246.6945    339.820      0.726      0.468    -419.570     912.959\n",
            "state_PA            1035.8780   1192.214      0.869      0.385   -1301.625    3373.381\n",
            "state_RI            1076.7484   1415.335      0.761      0.447   -1698.216    3851.713\n",
            "state_SC             814.9032   1037.922      0.785      0.432   -1220.090    2849.897\n",
            "state_SD              92.8610    739.446      0.126      0.900   -1356.927    1542.649\n",
            "state_TN            1213.3691    926.757      1.309      0.191    -603.669    3030.407\n",
            "state_TX             334.3781    443.200      0.754      0.451    -534.579    1203.335\n",
            "state_UT             -68.8888    464.436     -0.148      0.882    -979.481     841.703\n",
            "state_VA            1095.6639   1126.264      0.973      0.331   -1112.535    3303.863\n",
            "state_VT            1381.1865   1439.166      0.960      0.337   -1440.502    4202.875\n",
            "state_WA             527.3748    319.986      1.648      0.099    -100.002    1154.752\n",
            "state_WI             440.5341    731.311      0.602      0.547    -993.305    1874.373\n",
            "state_WV             438.3840   1120.959      0.391      0.696   -1759.415    2636.183\n",
            "state_WY            1067.5406    515.378      2.071      0.038      57.070    2078.011\n",
            "rollout_Bank_Of_Am   168.3018     57.800      2.912      0.004      54.978     281.626\n",
            "rollout_Chase        128.7567     66.373      1.940      0.052      -1.376     258.889\n",
            "rollout_Chase_Bony    10.4185    205.477      0.051      0.960    -392.448     413.285\n",
            "rollout_Chase_Rev    -48.3336     79.495     -0.608      0.543    -204.196     107.528\n",
            "rollout_Discover      86.9727     48.964      1.776      0.076      -9.028     182.973\n",
            "rollout_Wells         10.9420     60.049      0.182      0.855    -106.792     128.676\n",
            "==============================================================================\n",
            "Omnibus:                     2215.778   Durbin-Watson:                   1.995\n",
            "Prob(Omnibus):                  0.000   Jarque-Bera (JB):            39190.621\n",
            "Skew:                           2.643   Prob(JB):                         0.00\n",
            "Kurtosis:                      18.347   Cond. No.                     2.09e+09\n",
            "==============================================================================\n",
            "\n",
            "Notes:\n",
            "[1] Standard Errors assume that the covariance matrix of the errors is correctly specified.\n",
            "[2] The condition number is large, 2.09e+09. This might indicate that there are\n",
            "strong multicollinearity or other numerical problems.\n",
            "471480.25 0.387429303002744\n"
          ]
        },
        {
          "output_type": "stream",
          "name": "stderr",
          "text": [
            "/usr/local/lib/python3.7/dist-packages/statsmodels/tsa/tsatools.py:142: FutureWarning: In a future version of pandas all arguments of concat except for the argument 'objs' will be keyword-only\n",
            "  x = pd.concat(x[::order], 1)\n",
            "/usr/local/lib/python3.7/dist-packages/statsmodels/tsa/tsatools.py:142: FutureWarning: In a future version of pandas all arguments of concat except for the argument 'objs' will be keyword-only\n",
            "  x = pd.concat(x[::order], 1)\n"
          ]
        }
      ]
    },
    {
      "cell_type": "code",
      "source": [
        "# drop some insignificant dummy variables since the coefficients of these variables are large\n",
        "model_L = sm.OLS(y_train,sm.add_constant(X_train[['acctid', 'zip', 'cobal', 'cs', 'lnacscr', \n",
        "                                                  'bureauscr', 'eaglemod', 'numcalls', 'numrpcs', 'state_WY', 'rollout_Bank_Of_Am']]))\n",
        "results2 = model_L.fit()\n",
        "print(results2.summary())\n",
        "amount2 = results2.predict(sm.add_constant(X_train[['acctid', 'zip', 'cobal', 'cs', 'lnacscr', \n",
        "                                                  'bureauscr', 'eaglemod', 'numcalls', 'numrpcs', 'state_WY', 'rollout_Bank_Of_Am']]))\n",
        "print(y_train[amount2 > 0].sum(), y_train[amount2 > 0].sum()/y_train[y['judge']].sum())"
      ],
      "metadata": {
        "colab": {
          "base_uri": "https://localhost:8080/"
        },
        "id": "tbibL2AeTMHD",
        "outputId": "299840d4-df2c-4559-c235-d433cb4ab6c0"
      },
      "execution_count": 102,
      "outputs": [
        {
          "output_type": "stream",
          "name": "stdout",
          "text": [
            "                            OLS Regression Results                            \n",
            "==============================================================================\n",
            "Dep. Variable:                 profit   R-squared:                       0.093\n",
            "Model:                            OLS   Adj. R-squared:                  0.090\n",
            "Method:                 Least Squares   F-statistic:                     33.17\n",
            "Date:                Wed, 23 Nov 2022   Prob (F-statistic):           7.30e-68\n",
            "Time:                        12:57:34   Log-Likelihood:                -29583.\n",
            "No. Observations:                3570   AIC:                         5.919e+04\n",
            "Df Residuals:                    3558   BIC:                         5.926e+04\n",
            "Df Model:                          11                                         \n",
            "Covariance Type:            nonrobust                                         \n",
            "======================================================================================\n",
            "                         coef    std err          t      P>|t|      [0.025      0.975]\n",
            "--------------------------------------------------------------------------------------\n",
            "const                653.3386    139.867      4.671      0.000     379.110     927.567\n",
            "acctid                -0.0086      0.016     -0.551      0.581      -0.039       0.022\n",
            "zip                   -0.0010      0.001     -1.868      0.062      -0.002    5.02e-05\n",
            "cobal                 -0.1096      0.007    -15.025      0.000      -0.124      -0.095\n",
            "cs                   -33.5250      5.886     -5.696      0.000     -45.066     -21.984\n",
            "lnacscr              -12.7169     15.969     -0.796      0.426     -44.027      18.593\n",
            "bureauscr              0.1021      1.020      0.100      0.920      -1.898       2.102\n",
            "eaglemod              -0.0892      0.565     -0.158      0.875      -1.196       1.018\n",
            "numcalls              -0.6563      0.214     -3.069      0.002      -1.076      -0.237\n",
            "numrpcs              -21.5709      4.830     -4.466      0.000     -31.042     -12.100\n",
            "state_WY             602.2613    341.163      1.765      0.078     -66.634    1271.157\n",
            "rollout_Bank_Of_Am   145.3458     43.265      3.359      0.001      60.518     230.173\n",
            "==============================================================================\n",
            "Omnibus:                     2330.118   Durbin-Watson:                   1.998\n",
            "Prob(Omnibus):                  0.000   Jarque-Bera (JB):            46987.395\n",
            "Skew:                           2.790   Prob(JB):                         0.00\n",
            "Kurtosis:                      19.874   Cond. No.                     1.39e+06\n",
            "==============================================================================\n",
            "\n",
            "Notes:\n",
            "[1] Standard Errors assume that the covariance matrix of the errors is correctly specified.\n",
            "[2] The condition number is large, 1.39e+06. This might indicate that there are\n",
            "strong multicollinearity or other numerical problems.\n",
            "425456.75 0.34961042824235516\n"
          ]
        },
        {
          "output_type": "stream",
          "name": "stderr",
          "text": [
            "/usr/local/lib/python3.7/dist-packages/statsmodels/tsa/tsatools.py:142: FutureWarning: In a future version of pandas all arguments of concat except for the argument 'objs' will be keyword-only\n",
            "  x = pd.concat(x[::order], 1)\n"
          ]
        }
      ]
    },
    {
      "cell_type": "markdown",
      "source": [
        "# Prediction"
      ],
      "metadata": {
        "id": "TAlX9NrLtXNz"
      }
    },
    {
      "cell_type": "code",
      "source": [
        "df_test = pd.get_dummies(df_test, columns=['state','rollout'], drop_first=True) "
      ],
      "metadata": {
        "id": "EE2lDDj8tWpI"
      },
      "execution_count": 104,
      "outputs": []
    },
    {
      "cell_type": "code",
      "source": [
        "df_test.drop(columns=X.columns)"
      ],
      "metadata": {
        "colab": {
          "base_uri": "https://localhost:8080/",
          "height": 424
        },
        "id": "7H-sB9e8zAJv",
        "outputId": "055a3c4e-e807-42d8-af0c-279911dfc11c"
      },
      "execution_count": null,
      "outputs": [
        {
          "output_type": "execute_result",
          "data": {
            "text/plain": [
              "      accessscr  rollout_Wells_FIB\n",
              "0        0.4030                  0\n",
              "1        0.1662                  0\n",
              "2        0.6252                  0\n",
              "3        0.4670                  0\n",
              "4        0.7620                  0\n",
              "...         ...                ...\n",
              "3565     0.5990                  0\n",
              "3566     0.6573                  0\n",
              "3567     0.5458                  0\n",
              "3568     0.3933                  0\n",
              "3569     0.8528                  0\n",
              "\n",
              "[3570 rows x 2 columns]"
            ],
            "text/html": [
              "\n",
              "  <div id=\"df-ea23f90f-d81d-4d88-a6b5-634bdfdee728\">\n",
              "    <div class=\"colab-df-container\">\n",
              "      <div>\n",
              "<style scoped>\n",
              "    .dataframe tbody tr th:only-of-type {\n",
              "        vertical-align: middle;\n",
              "    }\n",
              "\n",
              "    .dataframe tbody tr th {\n",
              "        vertical-align: top;\n",
              "    }\n",
              "\n",
              "    .dataframe thead th {\n",
              "        text-align: right;\n",
              "    }\n",
              "</style>\n",
              "<table border=\"1\" class=\"dataframe\">\n",
              "  <thead>\n",
              "    <tr style=\"text-align: right;\">\n",
              "      <th></th>\n",
              "      <th>accessscr</th>\n",
              "      <th>rollout_Wells_FIB</th>\n",
              "    </tr>\n",
              "  </thead>\n",
              "  <tbody>\n",
              "    <tr>\n",
              "      <th>0</th>\n",
              "      <td>0.4030</td>\n",
              "      <td>0</td>\n",
              "    </tr>\n",
              "    <tr>\n",
              "      <th>1</th>\n",
              "      <td>0.1662</td>\n",
              "      <td>0</td>\n",
              "    </tr>\n",
              "    <tr>\n",
              "      <th>2</th>\n",
              "      <td>0.6252</td>\n",
              "      <td>0</td>\n",
              "    </tr>\n",
              "    <tr>\n",
              "      <th>3</th>\n",
              "      <td>0.4670</td>\n",
              "      <td>0</td>\n",
              "    </tr>\n",
              "    <tr>\n",
              "      <th>4</th>\n",
              "      <td>0.7620</td>\n",
              "      <td>0</td>\n",
              "    </tr>\n",
              "    <tr>\n",
              "      <th>...</th>\n",
              "      <td>...</td>\n",
              "      <td>...</td>\n",
              "    </tr>\n",
              "    <tr>\n",
              "      <th>3565</th>\n",
              "      <td>0.5990</td>\n",
              "      <td>0</td>\n",
              "    </tr>\n",
              "    <tr>\n",
              "      <th>3566</th>\n",
              "      <td>0.6573</td>\n",
              "      <td>0</td>\n",
              "    </tr>\n",
              "    <tr>\n",
              "      <th>3567</th>\n",
              "      <td>0.5458</td>\n",
              "      <td>0</td>\n",
              "    </tr>\n",
              "    <tr>\n",
              "      <th>3568</th>\n",
              "      <td>0.3933</td>\n",
              "      <td>0</td>\n",
              "    </tr>\n",
              "    <tr>\n",
              "      <th>3569</th>\n",
              "      <td>0.8528</td>\n",
              "      <td>0</td>\n",
              "    </tr>\n",
              "  </tbody>\n",
              "</table>\n",
              "<p>3570 rows × 2 columns</p>\n",
              "</div>\n",
              "      <button class=\"colab-df-convert\" onclick=\"convertToInteractive('df-ea23f90f-d81d-4d88-a6b5-634bdfdee728')\"\n",
              "              title=\"Convert this dataframe to an interactive table.\"\n",
              "              style=\"display:none;\">\n",
              "        \n",
              "  <svg xmlns=\"http://www.w3.org/2000/svg\" height=\"24px\"viewBox=\"0 0 24 24\"\n",
              "       width=\"24px\">\n",
              "    <path d=\"M0 0h24v24H0V0z\" fill=\"none\"/>\n",
              "    <path d=\"M18.56 5.44l.94 2.06.94-2.06 2.06-.94-2.06-.94-.94-2.06-.94 2.06-2.06.94zm-11 1L8.5 8.5l.94-2.06 2.06-.94-2.06-.94L8.5 2.5l-.94 2.06-2.06.94zm10 10l.94 2.06.94-2.06 2.06-.94-2.06-.94-.94-2.06-.94 2.06-2.06.94z\"/><path d=\"M17.41 7.96l-1.37-1.37c-.4-.4-.92-.59-1.43-.59-.52 0-1.04.2-1.43.59L10.3 9.45l-7.72 7.72c-.78.78-.78 2.05 0 2.83L4 21.41c.39.39.9.59 1.41.59.51 0 1.02-.2 1.41-.59l7.78-7.78 2.81-2.81c.8-.78.8-2.07 0-2.86zM5.41 20L4 18.59l7.72-7.72 1.47 1.35L5.41 20z\"/>\n",
              "  </svg>\n",
              "      </button>\n",
              "      \n",
              "  <style>\n",
              "    .colab-df-container {\n",
              "      display:flex;\n",
              "      flex-wrap:wrap;\n",
              "      gap: 12px;\n",
              "    }\n",
              "\n",
              "    .colab-df-convert {\n",
              "      background-color: #E8F0FE;\n",
              "      border: none;\n",
              "      border-radius: 50%;\n",
              "      cursor: pointer;\n",
              "      display: none;\n",
              "      fill: #1967D2;\n",
              "      height: 32px;\n",
              "      padding: 0 0 0 0;\n",
              "      width: 32px;\n",
              "    }\n",
              "\n",
              "    .colab-df-convert:hover {\n",
              "      background-color: #E2EBFA;\n",
              "      box-shadow: 0px 1px 2px rgba(60, 64, 67, 0.3), 0px 1px 3px 1px rgba(60, 64, 67, 0.15);\n",
              "      fill: #174EA6;\n",
              "    }\n",
              "\n",
              "    [theme=dark] .colab-df-convert {\n",
              "      background-color: #3B4455;\n",
              "      fill: #D2E3FC;\n",
              "    }\n",
              "\n",
              "    [theme=dark] .colab-df-convert:hover {\n",
              "      background-color: #434B5C;\n",
              "      box-shadow: 0px 1px 3px 1px rgba(0, 0, 0, 0.15);\n",
              "      filter: drop-shadow(0px 1px 2px rgba(0, 0, 0, 0.3));\n",
              "      fill: #FFFFFF;\n",
              "    }\n",
              "  </style>\n",
              "\n",
              "      <script>\n",
              "        const buttonEl =\n",
              "          document.querySelector('#df-ea23f90f-d81d-4d88-a6b5-634bdfdee728 button.colab-df-convert');\n",
              "        buttonEl.style.display =\n",
              "          google.colab.kernel.accessAllowed ? 'block' : 'none';\n",
              "\n",
              "        async function convertToInteractive(key) {\n",
              "          const element = document.querySelector('#df-ea23f90f-d81d-4d88-a6b5-634bdfdee728');\n",
              "          const dataTable =\n",
              "            await google.colab.kernel.invokeFunction('convertToInteractive',\n",
              "                                                     [key], {});\n",
              "          if (!dataTable) return;\n",
              "\n",
              "          const docLinkHtml = 'Like what you see? Visit the ' +\n",
              "            '<a target=\"_blank\" href=https://colab.research.google.com/notebooks/data_table.ipynb>data table notebook</a>'\n",
              "            + ' to learn more about interactive tables.';\n",
              "          element.innerHTML = '';\n",
              "          dataTable['output_type'] = 'display_data';\n",
              "          await google.colab.output.renderOutput(dataTable, element);\n",
              "          const docLink = document.createElement('div');\n",
              "          docLink.innerHTML = docLinkHtml;\n",
              "          element.appendChild(docLink);\n",
              "        }\n",
              "      </script>\n",
              "    </div>\n",
              "  </div>\n",
              "  "
            ]
          },
          "metadata": {},
          "execution_count": 34
        }
      ]
    },
    {
      "cell_type": "code",
      "source": [
        "'''\n",
        "we use Ridge Regression to predict the results\n",
        "since the R-square of Ridge Regression method is larger than Lasso and Decision Tree regression and \n",
        "the Total Profit is the largest among all classification methods and regression methods we have tried \n",
        "'''\n",
        "pred = pd.Series(best_algorithm.predict(df_test.loc[:,X_train.columns]), index = df_test.index)"
      ],
      "metadata": {
        "id": "Rk9f0n1Uyxxm"
      },
      "execution_count": 110,
      "outputs": []
    },
    {
      "cell_type": "code",
      "source": [
        "decisions = (pred>0)+0\n",
        "df_decisions = pd.DataFrame({\"acctid\":df_test[\"acctid\"], \"decision\": decisions})\n",
        "df_decisions.to_csv(f\"decisions_{nickname}.csv\", index=False)"
      ],
      "metadata": {
        "id": "GZnnXrWR03A2"
      },
      "execution_count": 111,
      "outputs": []
    },
    {
      "cell_type": "code",
      "source": [
        "estimate = pred[pred>0].sum()\n",
        "estimate = int(estimate)\n",
        "with open(f\"estimate_{nickname}.txt\", \"w\") as text_file:\n",
        "    text_file.write(f\"{estimate:.0f}\")"
      ],
      "metadata": {
        "id": "plTlyfxhz11g"
      },
      "execution_count": 112,
      "outputs": []
    },
    {
      "cell_type": "code",
      "source": [],
      "metadata": {
        "id": "4QnO8Q3tpYO_"
      },
      "execution_count": null,
      "outputs": []
    }
  ]
}