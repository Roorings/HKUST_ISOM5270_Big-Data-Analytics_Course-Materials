{
  "cells": [
    {
      "cell_type": "markdown",
      "metadata": {
        "deletable": false,
        "editable": false,
        "id": "ELs-DoWgo5S9",
        "nbgrader": {
          "cell_type": "markdown",
          "checksum": "368f444540020bf0a7d7942f0551023c",
          "grade": false,
          "grade_id": "cell-211ab281d2664aea",
          "locked": true,
          "schema_version": 3,
          "solution": false,
          "task": false
        }
      },
      "source": [
        "# Homework 2: Text mining\n",
        "\n",
        "This assignment will teach you how to use text data to build predictive models. Before starting this assignment, make sure you read the Trans-American Airlines case study. The data for the case study is in the file \"tweets.csv\".\n",
        "\n",
        "## Grade Breakdown\n",
        "\n",
        "The grade breakdown for this assignment is as follows:\n",
        "1. **Questions & Code (80\\%):** Most of this assignment consists of completing short snippets of code and answering questions within the Jupyter notebook. Questions do not have partial credits. You either get all the points or you don't get any, so be careful in your responses.\n",
        "2. **Peer evaluation (20\\%):** You and your group members must evaluate each other by completing the peer evaluation (the link is in the assignment description in Canvas). **IMPORTANT**: You will receive no credits if you do not complete your peer evaluation as part of your submission, so please be careful. One of the questions in the evaluation is this one: `Did this group member helped you submit a better assignment or in less time than what you could have done on your own?` Your grade will depend on the answer of other group members, and their grade will depend on your answer. These are the possible answers:\n",
        "   * Great: \"Definitely. My assignment is much better or it took me much less time than if I had done it without them.\" (+10% to grade, or +20% if you are in a group of 2)\n",
        "   * Acceptable: \"To some extent. My assignment is slightly better or it took me slightly less time than if I had done it without them.\" (+5% to grade, or +10% if you are in a group of 2)\n",
        "   * Worrisome: \"Not really. They did not save me time or help me submit a better assignment, but they gave it an honest try.\" (+2% to grade, or +4% if you are in a group of 2, and the person who answered this should reach out to the corresponding group member)\n",
        "   * Unacceptable: \"No. And they offered me very little help or no help at all.\" (+0%, the person who answered this should reach out to the corresponding group member, and the professor will look into it)\n",
        "\n",
        "## Loading the data\n",
        "\n",
        "Before you answer the questions below, let's first load the data that was labeled by your assistant. "
      ]
    },
    {
      "cell_type": "code",
      "source": [
        "!gdown https://drive.google.com/uc?id=15CeuAiHYat_NLYJ_r83LQUCP9DiWYdx5"
      ],
      "metadata": {
        "colab": {
          "base_uri": "https://localhost:8080/"
        },
        "id": "kvwJo_sN_4Sz",
        "outputId": "e7550126-1167-4f69-96f2-311eecae2979"
      },
      "execution_count": null,
      "outputs": [
        {
          "output_type": "stream",
          "name": "stdout",
          "text": [
            "Downloading...\n",
            "From: https://drive.google.com/uc?id=15CeuAiHYat_NLYJ_r83LQUCP9DiWYdx5\n",
            "To: /content/tweets.csv\n",
            "\r  0% 0.00/2.68M [00:00<?, ?B/s]\r100% 2.68M/2.68M [00:00<00:00, 155MB/s]\n"
          ]
        }
      ]
    },
    {
      "cell_type": "code",
      "execution_count": null,
      "metadata": {
        "colab": {
          "base_uri": "https://localhost:8080/",
          "height": 617
        },
        "deletable": false,
        "editable": false,
        "id": "TqQm2LsNo1Y_",
        "nbgrader": {
          "cell_type": "code",
          "checksum": "1b66805b62a7e7f516dfcd3be379345f",
          "grade": false,
          "grade_id": "cell-8ac8bb4b987eed3c",
          "locked": true,
          "schema_version": 3,
          "solution": false,
          "task": false
        },
        "outputId": "c411d081-8aec-42b6-d221-f0b430e3af08"
      },
      "outputs": [
        {
          "output_type": "execute_result",
          "data": {
            "text/plain": [
              "       tweet_id airline_sentiment  airline_sentiment_confidence  \\\n",
              "0  5.703060e+17           neutral                        1.0000   \n",
              "1  5.703010e+17          positive                        0.3486   \n",
              "2  5.703010e+17           neutral                        0.6837   \n",
              "3  5.703010e+17          negative                        1.0000   \n",
              "4  5.703010e+17          negative                        1.0000   \n",
              "\n",
              "  negativereason  negativereason_confidence        name  retweet_count  \\\n",
              "0            NaN                        NaN     cairdin              0   \n",
              "1            NaN                     0.0000    jnardino              0   \n",
              "2            NaN                        NaN  yvonnalynn              0   \n",
              "3     Bad Flight                     0.7033    jnardino              0   \n",
              "4     Can't Tell                     1.0000    jnardino              0   \n",
              "\n",
              "                                                text    tweet_created  \\\n",
              "0                          @TAA What @dhepburn said.  2/24/2015 11:35   \n",
              "1  @TAA plus you've added commercials to the expe...  2/24/2015 11:15   \n",
              "2  @TAA I didn't today... Must mean I need to tak...  2/24/2015 11:15   \n",
              "3  @TAA it's really aggressive to blast obnoxious...  2/24/2015 11:15   \n",
              "4      @TAA and it's a really big bad thing about it  2/24/2015 11:14   \n",
              "\n",
              "                user_timezone  \n",
              "0  Eastern Time (US & Canada)  \n",
              "1  Pacific Time (US & Canada)  \n",
              "2  Central Time (US & Canada)  \n",
              "3  Pacific Time (US & Canada)  \n",
              "4  Pacific Time (US & Canada)  "
            ],
            "text/html": [
              "\n",
              "  <div id=\"df-957b13a0-21a8-496f-a956-a9e2ba9c37db\">\n",
              "    <div class=\"colab-df-container\">\n",
              "      <div>\n",
              "<style scoped>\n",
              "    .dataframe tbody tr th:only-of-type {\n",
              "        vertical-align: middle;\n",
              "    }\n",
              "\n",
              "    .dataframe tbody tr th {\n",
              "        vertical-align: top;\n",
              "    }\n",
              "\n",
              "    .dataframe thead th {\n",
              "        text-align: right;\n",
              "    }\n",
              "</style>\n",
              "<table border=\"1\" class=\"dataframe\">\n",
              "  <thead>\n",
              "    <tr style=\"text-align: right;\">\n",
              "      <th></th>\n",
              "      <th>tweet_id</th>\n",
              "      <th>airline_sentiment</th>\n",
              "      <th>airline_sentiment_confidence</th>\n",
              "      <th>negativereason</th>\n",
              "      <th>negativereason_confidence</th>\n",
              "      <th>name</th>\n",
              "      <th>retweet_count</th>\n",
              "      <th>text</th>\n",
              "      <th>tweet_created</th>\n",
              "      <th>user_timezone</th>\n",
              "    </tr>\n",
              "  </thead>\n",
              "  <tbody>\n",
              "    <tr>\n",
              "      <th>0</th>\n",
              "      <td>5.703060e+17</td>\n",
              "      <td>neutral</td>\n",
              "      <td>1.0000</td>\n",
              "      <td>NaN</td>\n",
              "      <td>NaN</td>\n",
              "      <td>cairdin</td>\n",
              "      <td>0</td>\n",
              "      <td>@TAA What @dhepburn said.</td>\n",
              "      <td>2/24/2015 11:35</td>\n",
              "      <td>Eastern Time (US &amp; Canada)</td>\n",
              "    </tr>\n",
              "    <tr>\n",
              "      <th>1</th>\n",
              "      <td>5.703010e+17</td>\n",
              "      <td>positive</td>\n",
              "      <td>0.3486</td>\n",
              "      <td>NaN</td>\n",
              "      <td>0.0000</td>\n",
              "      <td>jnardino</td>\n",
              "      <td>0</td>\n",
              "      <td>@TAA plus you've added commercials to the expe...</td>\n",
              "      <td>2/24/2015 11:15</td>\n",
              "      <td>Pacific Time (US &amp; Canada)</td>\n",
              "    </tr>\n",
              "    <tr>\n",
              "      <th>2</th>\n",
              "      <td>5.703010e+17</td>\n",
              "      <td>neutral</td>\n",
              "      <td>0.6837</td>\n",
              "      <td>NaN</td>\n",
              "      <td>NaN</td>\n",
              "      <td>yvonnalynn</td>\n",
              "      <td>0</td>\n",
              "      <td>@TAA I didn't today... Must mean I need to tak...</td>\n",
              "      <td>2/24/2015 11:15</td>\n",
              "      <td>Central Time (US &amp; Canada)</td>\n",
              "    </tr>\n",
              "    <tr>\n",
              "      <th>3</th>\n",
              "      <td>5.703010e+17</td>\n",
              "      <td>negative</td>\n",
              "      <td>1.0000</td>\n",
              "      <td>Bad Flight</td>\n",
              "      <td>0.7033</td>\n",
              "      <td>jnardino</td>\n",
              "      <td>0</td>\n",
              "      <td>@TAA it's really aggressive to blast obnoxious...</td>\n",
              "      <td>2/24/2015 11:15</td>\n",
              "      <td>Pacific Time (US &amp; Canada)</td>\n",
              "    </tr>\n",
              "    <tr>\n",
              "      <th>4</th>\n",
              "      <td>5.703010e+17</td>\n",
              "      <td>negative</td>\n",
              "      <td>1.0000</td>\n",
              "      <td>Can't Tell</td>\n",
              "      <td>1.0000</td>\n",
              "      <td>jnardino</td>\n",
              "      <td>0</td>\n",
              "      <td>@TAA and it's a really big bad thing about it</td>\n",
              "      <td>2/24/2015 11:14</td>\n",
              "      <td>Pacific Time (US &amp; Canada)</td>\n",
              "    </tr>\n",
              "  </tbody>\n",
              "</table>\n",
              "</div>\n",
              "      <button class=\"colab-df-convert\" onclick=\"convertToInteractive('df-957b13a0-21a8-496f-a956-a9e2ba9c37db')\"\n",
              "              title=\"Convert this dataframe to an interactive table.\"\n",
              "              style=\"display:none;\">\n",
              "        \n",
              "  <svg xmlns=\"http://www.w3.org/2000/svg\" height=\"24px\"viewBox=\"0 0 24 24\"\n",
              "       width=\"24px\">\n",
              "    <path d=\"M0 0h24v24H0V0z\" fill=\"none\"/>\n",
              "    <path d=\"M18.56 5.44l.94 2.06.94-2.06 2.06-.94-2.06-.94-.94-2.06-.94 2.06-2.06.94zm-11 1L8.5 8.5l.94-2.06 2.06-.94-2.06-.94L8.5 2.5l-.94 2.06-2.06.94zm10 10l.94 2.06.94-2.06 2.06-.94-2.06-.94-.94-2.06-.94 2.06-2.06.94z\"/><path d=\"M17.41 7.96l-1.37-1.37c-.4-.4-.92-.59-1.43-.59-.52 0-1.04.2-1.43.59L10.3 9.45l-7.72 7.72c-.78.78-.78 2.05 0 2.83L4 21.41c.39.39.9.59 1.41.59.51 0 1.02-.2 1.41-.59l7.78-7.78 2.81-2.81c.8-.78.8-2.07 0-2.86zM5.41 20L4 18.59l7.72-7.72 1.47 1.35L5.41 20z\"/>\n",
              "  </svg>\n",
              "      </button>\n",
              "      \n",
              "  <style>\n",
              "    .colab-df-container {\n",
              "      display:flex;\n",
              "      flex-wrap:wrap;\n",
              "      gap: 12px;\n",
              "    }\n",
              "\n",
              "    .colab-df-convert {\n",
              "      background-color: #E8F0FE;\n",
              "      border: none;\n",
              "      border-radius: 50%;\n",
              "      cursor: pointer;\n",
              "      display: none;\n",
              "      fill: #1967D2;\n",
              "      height: 32px;\n",
              "      padding: 0 0 0 0;\n",
              "      width: 32px;\n",
              "    }\n",
              "\n",
              "    .colab-df-convert:hover {\n",
              "      background-color: #E2EBFA;\n",
              "      box-shadow: 0px 1px 2px rgba(60, 64, 67, 0.3), 0px 1px 3px 1px rgba(60, 64, 67, 0.15);\n",
              "      fill: #174EA6;\n",
              "    }\n",
              "\n",
              "    [theme=dark] .colab-df-convert {\n",
              "      background-color: #3B4455;\n",
              "      fill: #D2E3FC;\n",
              "    }\n",
              "\n",
              "    [theme=dark] .colab-df-convert:hover {\n",
              "      background-color: #434B5C;\n",
              "      box-shadow: 0px 1px 3px 1px rgba(0, 0, 0, 0.15);\n",
              "      filter: drop-shadow(0px 1px 2px rgba(0, 0, 0, 0.3));\n",
              "      fill: #FFFFFF;\n",
              "    }\n",
              "  </style>\n",
              "\n",
              "      <script>\n",
              "        const buttonEl =\n",
              "          document.querySelector('#df-957b13a0-21a8-496f-a956-a9e2ba9c37db button.colab-df-convert');\n",
              "        buttonEl.style.display =\n",
              "          google.colab.kernel.accessAllowed ? 'block' : 'none';\n",
              "\n",
              "        async function convertToInteractive(key) {\n",
              "          const element = document.querySelector('#df-957b13a0-21a8-496f-a956-a9e2ba9c37db');\n",
              "          const dataTable =\n",
              "            await google.colab.kernel.invokeFunction('convertToInteractive',\n",
              "                                                     [key], {});\n",
              "          if (!dataTable) return;\n",
              "\n",
              "          const docLinkHtml = 'Like what you see? Visit the ' +\n",
              "            '<a target=\"_blank\" href=https://colab.research.google.com/notebooks/data_table.ipynb>data table notebook</a>'\n",
              "            + ' to learn more about interactive tables.';\n",
              "          element.innerHTML = '';\n",
              "          dataTable['output_type'] = 'display_data';\n",
              "          await google.colab.output.renderOutput(dataTable, element);\n",
              "          const docLink = document.createElement('div');\n",
              "          docLink.innerHTML = docLinkHtml;\n",
              "          element.appendChild(docLink);\n",
              "        }\n",
              "      </script>\n",
              "    </div>\n",
              "  </div>\n",
              "  "
            ]
          },
          "metadata": {},
          "execution_count": 2
        }
      ],
      "source": [
        "import pandas as pd\n",
        "\n",
        "df = pd.read_csv(\"tweets.csv\")\n",
        "df.head()"
      ]
    },
    {
      "cell_type": "code",
      "source": [
        "df['negativereason'].value_counts()"
      ],
      "metadata": {
        "colab": {
          "base_uri": "https://localhost:8080/"
        },
        "id": "9rWj75-c55in",
        "outputId": "17f10155-d306-47cc-fe56-d1d463e0485e"
      },
      "execution_count": null,
      "outputs": [
        {
          "output_type": "execute_result",
          "data": {
            "text/plain": [
              "Customer Service Issue         2910\n",
              "Late Flight                    1665\n",
              "Can't Tell                     1190\n",
              "Cancelled Flight                847\n",
              "Lost Luggage                    724\n",
              "Bad Flight                      580\n",
              "Flight Booking Problems         529\n",
              "Flight Attendant Complaints     481\n",
              "longlines                       178\n",
              "Damaged Luggage                  74\n",
              "Name: negativereason, dtype: int64"
            ]
          },
          "metadata": {},
          "execution_count": 3
        }
      ]
    },
    {
      "cell_type": "markdown",
      "metadata": {
        "deletable": false,
        "editable": false,
        "id": "rL27hdWe2WqT",
        "nbgrader": {
          "cell_type": "markdown",
          "checksum": "aaa309a376ed10ff0009cd113a030f6e",
          "grade": false,
          "grade_id": "cell-4cefcf57ce9954ea",
          "locked": true,
          "schema_version": 3,
          "solution": false,
          "task": false
        }
      },
      "source": [
        "## Question 1: Target Variable (1 point)\n",
        "\n",
        "Code a function that takes the whole data set as an input and returns a binary target variable that we should predict to address the problem discussed in the case study."
      ]
    },
    {
      "cell_type": "code",
      "execution_count": null,
      "metadata": {
        "deletable": false,
        "nbgrader": {
          "cell_type": "code",
          "checksum": "2f1b9e9a2f9f1c60fe6ce8d76a61ece8",
          "grade": false,
          "grade_id": "cell-7e1d1b1bd5d588c9",
          "locked": false,
          "schema_version": 3,
          "solution": true,
          "task": false
        },
        "id": "MT18vs-s8zf5"
      },
      "outputs": [],
      "source": [
        "def get_target_variable(data):\n",
        "    return data['negativereason']=='Customer Service Issue' # YOUR CODE HERE\n",
        "    raise NotImplementedError()"
      ]
    },
    {
      "cell_type": "markdown",
      "metadata": {
        "deletable": false,
        "editable": false,
        "nbgrader": {
          "cell_type": "markdown",
          "checksum": "3d93ee8313ccaa761eefb0c276f55e97",
          "grade": false,
          "grade_id": "cell-1373ea3914205389",
          "locked": true,
          "schema_version": 3,
          "solution": false,
          "task": false
        },
        "id": "L4FjXAwm8zf6"
      },
      "source": [
        "The output of your function should be a pandas `Series` where values are either `True` or `False`. A `True` value should represent the outcome of interest (e.g., the customer is angry). Check that your function is giving the correct type of output:   "
      ]
    },
    {
      "cell_type": "code",
      "execution_count": null,
      "metadata": {
        "deletable": false,
        "editable": false,
        "nbgrader": {
          "cell_type": "code",
          "checksum": "cb47804c1b6452caaac91a1247f260ed",
          "grade": true,
          "grade_id": "cell-6c6d1be21f2557d7",
          "locked": true,
          "points": 2,
          "schema_version": 3,
          "solution": false,
          "task": false
        },
        "id": "qr_akWI-8zf6"
      },
      "outputs": [],
      "source": [
        "y = get_target_variable(df)\n",
        "assert type(y) == pd.core.series.Series\n",
        "assert len(y) == len(df)\n",
        "assert y.dtype == bool"
      ]
    },
    {
      "cell_type": "code",
      "source": [
        "y"
      ],
      "metadata": {
        "colab": {
          "base_uri": "https://localhost:8080/"
        },
        "id": "Jw2ZwfVkm8iv",
        "outputId": "65352f98-0ddc-407e-d4ac-5d0b10b7afc6"
      },
      "execution_count": null,
      "outputs": [
        {
          "output_type": "execute_result",
          "data": {
            "text/plain": [
              "0        False\n",
              "1        False\n",
              "2        False\n",
              "3        False\n",
              "4        False\n",
              "         ...  \n",
              "14635    False\n",
              "14636     True\n",
              "14637    False\n",
              "14638     True\n",
              "14639    False\n",
              "Name: negativereason, Length: 14640, dtype: bool"
            ]
          },
          "metadata": {},
          "execution_count": 6
        }
      ]
    },
    {
      "cell_type": "markdown",
      "metadata": {
        "deletable": false,
        "editable": false,
        "nbgrader": {
          "cell_type": "markdown",
          "checksum": "e91b6c8c1cb0c10646102eb578759bc0",
          "grade": false,
          "grade_id": "cell-804930b7270cf0fe",
          "locked": true,
          "schema_version": 3,
          "solution": false,
          "task": false
        },
        "id": "5BnQzzuD8zf7"
      },
      "source": [
        "## Question 2: Building a Predictive Model (1 point)\n",
        "\n",
        "The following code splits the data into a training set (13,640 tweets) and a holdout set (1,000 tweets). It then transforms the text of each tweet using the bag-of-words technique discussed in Chapter 10. Each possible word that could appear in a tweet is represented as a binary feature that takes a value of 1 if the word is present in the tweet and a value of 0 otherwise. "
      ]
    },
    {
      "cell_type": "code",
      "execution_count": null,
      "metadata": {
        "colab": {
          "base_uri": "https://localhost:8080/"
        },
        "deletable": false,
        "editable": false,
        "id": "aU0kGvok1-oN",
        "nbgrader": {
          "cell_type": "code",
          "checksum": "e58a439fa4f956ae96d8e72f8545e24f",
          "grade": false,
          "grade_id": "cell-213504f5de2f9a16",
          "locked": true,
          "schema_version": 3,
          "solution": false,
          "task": false
        },
        "outputId": "a3378d83-cce8-489c-bff6-13d05046f583"
      },
      "outputs": [
        {
          "output_type": "execute_result",
          "data": {
            "text/plain": [
              "<13640x14436 sparse matrix of type '<class 'numpy.int64'>'\n",
              "\twith 218161 stored elements in Compressed Sparse Row format>"
            ]
          },
          "metadata": {},
          "execution_count": 6
        }
      ],
      "source": [
        "from sklearn.feature_extraction.text import CountVectorizer\n",
        "from sklearn.model_selection import train_test_split\n",
        "\n",
        "text_data = df['text']\n",
        "text_train, text_holdout, y_train, y_holdout = train_test_split(text_data, y, test_size=1000, random_state=0)\n",
        "\n",
        "binary_vectorizer = CountVectorizer(binary=True)\n",
        "binary_vectorizer.fit(text_train)\n",
        "X_binary_train = binary_vectorizer.transform(text_train)\n",
        "X_binary_holdout = binary_vectorizer.transform(text_holdout)\n",
        "X_binary_train"
      ]
    },
    {
      "cell_type": "markdown",
      "metadata": {
        "deletable": false,
        "editable": false,
        "nbgrader": {
          "cell_type": "markdown",
          "checksum": "bc49b9f99b58347bafaddcfc4a9c53ab",
          "grade": false,
          "grade_id": "cell-b0dac1218c040f0c",
          "locked": true,
          "schema_version": 3,
          "solution": false,
          "task": false
        },
        "id": "9zcANSIq8zf9"
      },
      "source": [
        "As you can see, the matrix that results from transforming the text in the training data consists of 13,640 rows (tweets) and 14,436 features (words)! The output above also shows that the data is being stored in a sparse matrix (as opposed to the typical dense matrix). Given the shape of the matrix, this means there are \\~197 million cells that should have values. However, from the above, we can see that only \\~218k cells (\\~0.1% of the cells) have values! Why is this?\n",
        "\n",
        "To save space, sklearn uses a sparse matrix. This means that only values that are not zero are stored, which saves a ton of memory and makes the computation of models much more efficient!\n",
        "\n",
        "**Code a function that returns a logistic regression model that is trained and tuned using the training data**. Use `GridSearchCV` with 10 folds to tune the model according to AUC. Use the parameters `solver=\"liblinear\"` and `random_state=42` for the logistic regression. Also, try the following values for the `C` parameter with the cross-validation: 0.01, 0.1, 1, 10. For more information on these parameters, [check out the documentation on logistic regression](https://scikit-learn.org/stable/modules/generated/sklearn.linear_model.LogisticRegression.html).\n",
        "\n",
        "*Side note (and practical tip):* When you just want to do a \"quick\" tune of a regularization parameter (like `C`), it's a common practice to try powers of 10 (e.g., 0.01, 0.1, 1, 10)."
      ]
    },
    {
      "cell_type": "code",
      "execution_count": null,
      "metadata": {
        "deletable": false,
        "nbgrader": {
          "cell_type": "code",
          "checksum": "8bcb3e954b6ffb40d5d5c952fd65f35d",
          "grade": false,
          "grade_id": "cell-0b7e89ed9df4b059",
          "locked": false,
          "schema_version": 3,
          "solution": true,
          "task": false
        },
        "id": "Ydxwyutp8zf-"
      },
      "outputs": [],
      "source": [
        "from sklearn.linear_model import LogisticRegression\n",
        "from sklearn.model_selection import GridSearchCV\n",
        "\n",
        "def get_model(X, y):\n",
        "    # YOUR CODE HERE\n",
        "    logreg = LogisticRegression()\n",
        "    log_grid = {\"C\": [0.01, 0.1, 1, 10],\n",
        "              \"random_state\": [42], \n",
        "              \"solver\": [\"liblinear\"]}\n",
        "\n",
        "    logreg_cv = GridSearchCV(logreg, log_grid, cv=10, scoring = 'roc_auc')\n",
        "    logreg_cv.fit(X, y)\n",
        "    return logreg_cv.best_estimator_\n",
        "    raise NotImplementedError()"
      ]
    },
    {
      "cell_type": "markdown",
      "metadata": {
        "deletable": false,
        "editable": false,
        "nbgrader": {
          "cell_type": "markdown",
          "checksum": "49ef4db07225bcd0fb39dc3acb8b521a",
          "grade": false,
          "grade_id": "cell-e8db2c5123178a49",
          "locked": true,
          "schema_version": 3,
          "solution": false,
          "task": false
        },
        "id": "_a6tm5_W8zf-"
      },
      "source": [
        "Check that your function is giving the correct type of output:"
      ]
    },
    {
      "cell_type": "code",
      "execution_count": null,
      "metadata": {
        "deletable": false,
        "editable": false,
        "nbgrader": {
          "cell_type": "code",
          "checksum": "e9712b7ac41c476a52d2ee87fdfd8220",
          "grade": true,
          "grade_id": "cell-5abc1d10340a17cf",
          "locked": true,
          "points": 1,
          "schema_version": 3,
          "solution": false,
          "task": false
        },
        "id": "_aCordtf8zf_"
      },
      "outputs": [],
      "source": [
        "my_model = get_model(X_binary_train, y_train)\n",
        "assert type(my_model) == LogisticRegression \n",
        "assert len(my_model.predict(X_binary_train)) == len(y_train)"
      ]
    },
    {
      "cell_type": "code",
      "source": [
        "my_model"
      ],
      "metadata": {
        "colab": {
          "base_uri": "https://localhost:8080/"
        },
        "id": "DptW4zbUCFcS",
        "outputId": "f94621fb-b2c1-4a36-c092-1933f3010217"
      },
      "execution_count": null,
      "outputs": [
        {
          "output_type": "execute_result",
          "data": {
            "text/plain": [
              "LogisticRegression(C=0.1, random_state=42, solver='liblinear')"
            ]
          },
          "metadata": {},
          "execution_count": 9
        }
      ]
    },
    {
      "cell_type": "markdown",
      "metadata": {
        "deletable": false,
        "editable": false,
        "nbgrader": {
          "cell_type": "markdown",
          "checksum": "ff0df9fa86ca28372ba193dcd77136c4",
          "grade": false,
          "grade_id": "cell-5c765a9001418370",
          "locked": true,
          "schema_version": 3,
          "solution": false,
          "task": false
        },
        "id": "9iE-K30K8zgA"
      },
      "source": [
        "## Question 3: Most Predictive Words (0.5 points)\n",
        "\n",
        "The code below shows the features with the largest coefficients in your model. Use it to show the most predictive words. Pick a few words that catch your attention (at least 2 or 3). Why do you think these words are predictive? "
      ]
    },
    {
      "cell_type": "code",
      "execution_count": null,
      "metadata": {
        "deletable": false,
        "editable": false,
        "nbgrader": {
          "cell_type": "code",
          "checksum": "bf9f5092bbc0ef7410cbd418a5faa362",
          "grade": false,
          "grade_id": "cell-fdb6e2b537e41af7",
          "locked": true,
          "schema_version": 3,
          "solution": false,
          "task": false
        },
        "colab": {
          "base_uri": "https://localhost:8080/",
          "height": 367
        },
        "id": "5nrq-gr-8zgB",
        "outputId": "81c301e3-44fb-4d6f-df66-6581ad128414"
      },
      "outputs": [
        {
          "output_type": "stream",
          "name": "stderr",
          "text": [
            "/usr/local/lib/python3.7/dist-packages/sklearn/utils/deprecation.py:87: FutureWarning: Function get_feature_names is deprecated; get_feature_names is deprecated in 1.0 and will be removed in 1.2. Please use get_feature_names_out instead.\n",
            "  warnings.warn(msg, category=FutureWarning)\n"
          ]
        },
        {
          "output_type": "display_data",
          "data": {
            "text/plain": [
              "<Figure size 1080x360 with 1 Axes>"
            ],
            "image/png": "[encoded data removed]"
          },
          "metadata": {
            "needs_background": "light"
          }
        }
      ],
      "source": [
        "import numpy as np\n",
        "import matplotlib.pyplot as plt\n",
        "\n",
        "def plot_coefficients(classifier, feature_names, top_features=15):\n",
        "    coef = classifier.coef_.ravel()\n",
        "    top_positive_coefficients = np.argsort(coef)[-top_features:]\n",
        "    top_negative_coefficients = np.argsort(coef)[:top_features]\n",
        "    top_coefficients = np.hstack([top_negative_coefficients, top_positive_coefficients])\n",
        "    # create plot\n",
        "    plt.figure(figsize=(15, 5))\n",
        "    colors = [\"red\" if c < 0 else \"blue\" for c in coef[top_coefficients]]\n",
        "    plt.bar(np.arange(2 * top_features), coef[top_coefficients], color=colors)\n",
        "    feature_names = np.array(feature_names)\n",
        "    plt.xticks(np.arange(1, 1 + 2 * top_features), feature_names[top_coefficients], rotation=60, ha=\"right\")\n",
        "    plt.ylabel(\"Coefficient size\")\n",
        "    plt.show()\n",
        "    \n",
        "feature_names = binary_vectorizer.get_feature_names()\n",
        "plot_coefficients(my_model, feature_names)"
      ]
    },
    {
      "cell_type": "markdown",
      "source": [
        "**ANSWER HERE**\n",
        "\n",
        "1. **Negative Side**: \"*call*\", \"*response*\", \"*nothing*\" \n",
        "\n",
        "  Actually there are many similar words listed here, eg. calling/call/phone,or answer/response...These words all say the same thing, so We just pick two of them to explain. \n",
        "  \n",
        "  They are predictive because We think they give speficic scanerios related to customer service issues. For example from those words above, We can make some fair guesses which customers might have issues when calling the Airline company and get nothing or dissatisfied reponse.\n",
        "\n",
        "  Besides, *Customer Service Issue* is mainly caused by the customer's problem not being solved well. To solve the customer's problem, the staff needs to respond to the customer's problem in time. Therefore, \"*call*\" and \"*response*\" (or such words) are highly related to Customer Service Issue.\n",
        "\n",
        "  \"*Nothing*\" is intuitively a more negative word, and the correlation with negative evaluation is relatively high.\n",
        "\n",
        "2. **Positive Side**: \"*thank(s)*\", \"*amazing*\", \"*love*\"  \n",
        "  \n",
        "  The words We picked above are intuitively positive and may show the appreciation and gratitude of customers. So these words could show customers are relatively satisfied."
      ],
      "metadata": {
        "id": "e-VTsTXEO7z4"
      }
    },
    {
      "cell_type": "markdown",
      "metadata": {
        "deletable": false,
        "editable": false,
        "nbgrader": {
          "cell_type": "markdown",
          "checksum": "208396ebe8cffce262b536dad5caf90c",
          "grade": false,
          "grade_id": "cell-9c2af208bcffc0b0",
          "locked": true,
          "schema_version": 3,
          "solution": false,
          "task": false
        },
        "id": "Yow_YKau8zgD"
      },
      "source": [
        "## Question 4: Text Mining Limitations (0.5 points)\n",
        "\n",
        "For the purposes of this question, suppose we use a threshold of 0.5 to predict the target variable. The following code prints the text of five false positives and five false negatives in the validation set. Why do you think the model made these mistakes?"
      ]
    },
    {
      "cell_type": "code",
      "execution_count": null,
      "metadata": {
        "deletable": false,
        "editable": false,
        "nbgrader": {
          "cell_type": "code",
          "checksum": "7b05a8b62af14e6333b190938af0b04d",
          "grade": false,
          "grade_id": "cell-5652b10ae2c6d1cb",
          "locked": true,
          "schema_version": 3,
          "solution": false,
          "task": false
        },
        "colab": {
          "base_uri": "https://localhost:8080/"
        },
        "id": "MGSPFsZA8zgD",
        "outputId": "8078a6c0-7df6-44e4-b97a-4c3025ee5726"
      },
      "outputs": [
        {
          "output_type": "stream",
          "name": "stdout",
          "text": [
            "===== FALSE POSITIVES\n",
            "[\"@TAA In car gng to DFW. Pulled over 1hr ago - very icy roads. On-hold with AA since 1hr. Can't reach arpt for AA2450. Wat 2 do?\"\n",
            " '@TAA Can you find us a flt out of LAX that is sooner than midnight on Monday? That would be great customer service 😃'\n",
            " '@TAA customer service at its finest'\n",
            " '@TAA you should be contacting her for a refund - dm me and I will provide phone number'\n",
            " '@TAA VERY upset that I cannot select seats for Tuesday flight online or over the phone. Terrible customer service :( Please help!']\n",
            "===== FALSE NEGATIVES\n",
            "['@TAA still no response from AA. great job guys!'\n",
            " '@TAA hello??? Anyone there?'\n",
            " \"@TAA Didn't see travel had to be compete for unused funds by expiration date hidden in the fine print. Never saw that before.\"\n",
            " '@TAA awesome... Doors close in 2 minutes, flight leaves in 17 minutes... And the plane just got here. WTH?'\n",
            " '@TAA nothing to do with Mother Nature, more like poor commutation.']\n"
          ]
        }
      ],
      "source": [
        "predictions = my_model.predict(X_binary_holdout)\n",
        "false_positives = text_holdout[(predictions == True) & (y_holdout == False)]\n",
        "false_negatives = text_holdout[(predictions == False) & (y_holdout == True)]\n",
        "print(\"===== FALSE POSITIVES\")\n",
        "print(false_positives.head(5).values)\n",
        "print(\"===== FALSE NEGATIVES\")\n",
        "print(false_negatives.head(5).values)"
      ]
    },
    {
      "cell_type": "code",
      "source": [
        "X_binary_holdout"
      ],
      "metadata": {
        "colab": {
          "base_uri": "https://localhost:8080/"
        },
        "id": "9WZMEztuFM57",
        "outputId": "781d7da9-ba2c-46f3-f632-9304b6c8b237"
      },
      "execution_count": null,
      "outputs": [
        {
          "output_type": "execute_result",
          "data": {
            "text/plain": [
              "<1000x14436 sparse matrix of type '<class 'numpy.int64'>'\n",
              "\twith 15491 stored elements in Compressed Sparse Row format>"
            ]
          },
          "metadata": {},
          "execution_count": 12
        }
      ]
    },
    {
      "cell_type": "markdown",
      "metadata": {
        "deletable": false,
        "nbgrader": {
          "cell_type": "markdown",
          "checksum": "30b14022ef2057c52ffc807161dfe986",
          "grade": true,
          "grade_id": "cell-00947b63f3daa4d3",
          "locked": false,
          "points": 0.5,
          "schema_version": 3,
          "solution": true,
          "task": false
        },
        "id": "1iN4r0Qg8zgE"
      },
      "source": [
        "**ANSWER HERE**\n",
        "\n",
        "Reason might be that we did not do the word normalization and stemming... \n",
        "we also not use the TF-IDF method to examine the relative importance of words frequency in one document and frequencies among the entire corpus. \n",
        "So, the problem is that many irrelevant words exist and blur the original meaning that we want to catch, and eventually it makes such mistake. \n",
        "\n",
        "FP:\n",
        "* It looks like a service, but it actually refers to crew services such as aircraft transportation/reservation\n",
        "* Words such as customer and service are classified as likely to be complaints by that regression, so they are misjudged ('customer service at its finest')\n",
        "* Abbreviation not recognized\n",
        "\n",
        "FN:\n",
        "* Unable to recognize sarcasm ('still no response from AA. ***great job guys***!')\n",
        "* does not use the word about service, but actually says service (hello??? Anyone there?')\n",
        "\n",
        "\n"
      ]
    },
    {
      "cell_type": "markdown",
      "metadata": {
        "deletable": false,
        "editable": false,
        "nbgrader": {
          "cell_type": "markdown",
          "checksum": "98883675e445db7cc598a686cd3b21a3",
          "grade": false,
          "grade_id": "cell-0043b2f00da655d2",
          "locked": true,
          "schema_version": 3,
          "solution": false,
          "task": false
        },
        "id": "LUhxktTq8zgE"
      },
      "source": [
        "## Question 5: Model Evaluation (2 points)\n",
        "\n",
        "Based on the case study information, choose one of the following measures to evaluate your model:\n",
        "* Accuracy\n",
        "* Expected Value\n",
        "* AUC\n",
        "* Precision\n",
        "* Recall\n",
        "\n",
        "Then, code a function called `get_evaluation` that evaluates the performance of your model according to this measure. This function should receive two parameters: the labeled data in the holdout set and the probability predictions made by your model in the holdout set. To obtain full marks, you must choose the most appropriate evaluation measure and code it correctly. You are only allowed to use standard Python, scikit-learn, pandas, or numpy for this task.\n",
        "\n",
        "Print the model's performance. Do you think this performance is acceptable from a business perspective? Justify your answer. "
      ]
    },
    {
      "cell_type": "code",
      "execution_count": null,
      "metadata": {
        "deletable": false,
        "nbgrader": {
          "cell_type": "code",
          "checksum": "d2aa9ec8690febe5ff64ff0beb209af0",
          "grade": false,
          "grade_id": "cell-b51f77262154d15f",
          "locked": false,
          "schema_version": 3,
          "solution": true,
          "task": false
        },
        "id": "peIRkyOX8zgF"
      },
      "outputs": [],
      "source": [
        "from sklearn import metrics\n",
        "def get_evaluation(y, probs):\n",
        "    # YOUR CODE HERE\n",
        "    auc = metrics.roc_auc_score(y, probs)\n",
        "    return auc\n",
        "    raise NotImplementedError()"
      ]
    },
    {
      "cell_type": "markdown",
      "metadata": {
        "id": "JaoZRsn08zgF"
      },
      "source": [
        "Check that your function is giving the right output:"
      ]
    },
    {
      "cell_type": "code",
      "execution_count": null,
      "metadata": {
        "deletable": false,
        "editable": false,
        "nbgrader": {
          "cell_type": "code",
          "checksum": "a78dec6d094c6ddbe0bd49d5efa434ca",
          "grade": true,
          "grade_id": "cell-485ca65f50391f29",
          "locked": true,
          "points": 2,
          "schema_version": 3,
          "solution": false,
          "task": false
        },
        "id": "3ZWM-EBg8zgG",
        "colab": {
          "base_uri": "https://localhost:8080/"
        },
        "outputId": "64281eb9-231c-472f-d408-7ebe3ba03140"
      },
      "outputs": [
        {
          "output_type": "stream",
          "name": "stdout",
          "text": [
            "0.8643341551703588\n"
          ]
        }
      ],
      "source": [
        "probabilities = my_model.predict_proba(X_binary_holdout)[:, 1]\n",
        "result = get_evaluation(y_holdout, probabilities)\n",
        "print(result)"
      ]
    },
    {
      "cell_type": "markdown",
      "metadata": {
        "deletable": false,
        "nbgrader": {
          "cell_type": "markdown",
          "checksum": "78b920ca45a6a123d6c4be07f84017b6",
          "grade": true,
          "grade_id": "cell-4a353f5bb495b759",
          "locked": false,
          "points": 0,
          "schema_version": 3,
          "solution": true,
          "task": false
        },
        "id": "aD-YS9cB8zgG"
      },
      "source": [
        "**ANSWER HERE**\n",
        "\n",
        "We think AUC is the most appropriate evaluation measure as it balanced the different thresholds and give us a nice result. \n",
        "\n",
        "In this case, the model is acceptable because the AUC value for the model (AUC=0.86) is much larger than random (AUC=0.5).\n",
        "\n",
        "But if we count the probability such that when it is larger than 0.5, then we think the customer is angry about the customer service issue, then the recall score (TP/(TP+FN)) is 0.45, which means we can only identify less than a half message which is true.  So this method, to some extent, may lose some important angry messages."
      ]
    },
    {
      "cell_type": "markdown",
      "metadata": {
        "deletable": false,
        "editable": false,
        "nbgrader": {
          "cell_type": "markdown",
          "checksum": "9fdd0c3903d155affe033cf7e2a67c25",
          "grade": false,
          "grade_id": "cell-f6414006fdce5cf9",
          "locked": true,
          "schema_version": 3,
          "solution": false,
          "task": false
        },
        "id": "TTQHk3i48zgH"
      },
      "source": [
        "## Question 6: Using the model (0.5 point)\n",
        "\n",
        "Print the top 20 tweets in the holdout set with the highest probability of having a positive value for the target variable. What seems to be the main problem that Trans-American Airlines is facing?"
      ]
    },
    {
      "cell_type": "code",
      "execution_count": null,
      "metadata": {
        "deletable": false,
        "nbgrader": {
          "cell_type": "code",
          "checksum": "b7002a2e34090a5a5a2f1f241f951d86",
          "grade": true,
          "grade_id": "cell-ab7ab4312b3a6ad9",
          "locked": false,
          "points": 0.2,
          "schema_version": 3,
          "solution": true,
          "task": false
        },
        "colab": {
          "base_uri": "https://localhost:8080/"
        },
        "id": "86MDEyJ78zgH",
        "outputId": "d879acb1-dd87-4624-ccc3-92e3a26489c8"
      },
      "outputs": [
        {
          "output_type": "stream",
          "name": "stdout",
          "text": [
            "['@TAA I have been on hold w/customer service line for 68 minutes.  This after I was on phone with an agent for 35 min b/f call droped'\n",
            " '@TAA was wondering is there a reason why customer service is so busy? Been on hold past few days for many hours No answer Help plz'\n",
            " '@TAA I waited customer service 32 minutes on the phone w/o response. Had to hung up in the end since my battery died due to waiting!'\n",
            " \"@TAA I'm really glad I just waited on the phone for over an hour to be sent to a voicemail. Your customer service sucks. Nothing has been\"\n",
            " '@TAA Hold for 15 min, a couple of rings, then \"mailbox has not been set up yet.\" Customer service forwarding to their cell phones? C\\'mon'\n",
            " \"@TAA trying to change my reservation, been on hold for 45 minutes, and can't do it online-was directed to call. Help?\"\n",
            " \"@TAA @EdPlotts don't bother trying to get anywhere with their customer service team either as take 2+ months and counting to reply\"\n",
            " \"@TAA  after 38 minutes on the phone I'm given another number to call now still on hold with them. http://t.co/1ZT2kEe8up\"\n",
            " '@TAA Why offer automated call back option when agent is available only to call me &amp; have me sit on hold? At 12:30am. #onholdfordays'\n",
            " \"@TAA how is it possible that you don't have a call back service? An automated message telling us to call back Late Flightr is so unhelpful.\"\n",
            " '@TAA Anyone answering phone this morning at 800IFLYSWA? On hold 51 minutes and counting...'\n",
            " '@TAA why would I even consider continuing your point program when I received no perks or continued bad customer service? #senseless'\n",
            " '@TAA Any plans to implement a call-back system on your reFlight Booking Problems line? Been on hold for over an hour now...'\n",
            " '@TAA awaiting my return phone call, just would prefer to use your online self-service option :('\n",
            " \"@TAA seriously???  did you not see that I've spent 2 days - for multiple hours on hold just to have to hang up after the hours?\"\n",
            " '@TAA Is there a direct number to call to request a refund?  Its telling me its not valid as I changed the ticket.  No number on site'\n",
            " '@TAA I am a premium #DividendMiles #cardholder. Unacceptable 4 you to #hangup my #customerservice call twice after putting me on hold.'\n",
            " \"@TAA they don't even give an option to hold.. Just say lines are busy Plz try Late Flightr\"\n",
            " '@TAA he is 8 months old and is suffering from a rare form of cancer. Your customer service agents had no compassion and I am disgusted'\n",
            " \"@TAA I've been on hold for 40 minutes just to get a receipt. I know you guys are busy but I think it's time to higher more staff!\"]\n"
          ]
        }
      ],
      "source": [
        "# YOUR CODE HERE\n",
        "def high_p20(model, X, y):\n",
        "  prob_T = pd.Series(model.predict_proba(X)[:,1], index = y.index)\n",
        "  prob_T.sort_values(ascending = False, inplace = True)\n",
        "  return text_holdout[prob_T[:20].index].values\n",
        "  raise NotImplementedError() \n",
        "  \n",
        "top_20 = high_p20(my_model, X_binary_holdout, y_holdout)\n",
        "print(top_20)\n"
      ]
    },
    {
      "cell_type": "markdown",
      "metadata": {
        "deletable": false,
        "nbgrader": {
          "cell_type": "markdown",
          "checksum": "85b854081feb0603df6390621eb0fca3",
          "grade": true,
          "grade_id": "cell-b22458d2b8cd6392",
          "locked": false,
          "points": 0.3,
          "schema_version": 3,
          "solution": true,
          "task": false
        },
        "id": "4O5SX9YV8zgI"
      },
      "source": [
        "**ANSWER HERE**\n",
        "\n",
        "[**basically regarding the customer service phone call issue**], to be more specific: \n",
        "\n",
        "1.customer service center did not pick up the phone on time, long waiting for customers;\n",
        "\n",
        "2.poor call-back system \n",
        "\n",
        "3.hang-up VIP customers' phone calls"
      ]
    },
    {
      "cell_type": "markdown",
      "metadata": {
        "deletable": false,
        "editable": false,
        "nbgrader": {
          "cell_type": "markdown",
          "checksum": "6e657b55db6af25c4c62fa98930a7d2d",
          "grade": false,
          "grade_id": "cell-a7a7c6d55d4248fa",
          "locked": true,
          "schema_version": 3,
          "solution": false,
          "task": false
        },
        "id": "PoTLXm8o8zgI"
      },
      "source": [
        "## Question 7: Conduct Benchmark (2 points)\n",
        "\n",
        "There are several options for transforming text into features besides using 1s and 0s to represent the presence or absence of a word. For example you can use integers to indicate how many times words appear; the term frequency - inverse document frequency (tf-idf) measure is another popular alternative (see Chapter 10 of the book). The code below shows how to transform text into features using these two other approaches. "
      ]
    },
    {
      "cell_type": "code",
      "execution_count": null,
      "metadata": {
        "deletable": false,
        "editable": false,
        "nbgrader": {
          "cell_type": "code",
          "checksum": "b0e466667df52608d544cd725a82682d",
          "grade": false,
          "grade_id": "cell-54c76f0b996d8484",
          "locked": true,
          "schema_version": 3,
          "solution": false,
          "task": false
        },
        "id": "IJn3adR18zgI"
      },
      "outputs": [],
      "source": [
        "from sklearn.feature_extraction.text import TfidfVectorizer\n",
        "\n",
        "# transform text to word counts (binary)\n",
        "count_vectorizer_binary = CountVectorizer(binary=True)\n",
        "count_vectorizer_binary.fit(text_train)\n",
        "X_count_train_binary = count_vectorizer_binary.transform(text_train)\n",
        "\n",
        "# transform text to word counts\n",
        "count_vectorizer = CountVectorizer()\n",
        "count_vectorizer.fit(text_train)\n",
        "X_count_train = count_vectorizer.transform(text_train)\n",
        "\n",
        "# transform text to tf-idf\n",
        "tfidf_vectorizer = TfidfVectorizer()\n",
        "tfidf_vectorizer.fit(text_train)\n",
        "X_tfidf_train = tfidf_vectorizer.transform(text_train)"
      ]
    },
    {
      "cell_type": "markdown",
      "metadata": {
        "deletable": false,
        "editable": false,
        "nbgrader": {
          "cell_type": "markdown",
          "checksum": "f3f32c20b7629287bf0604ef3776d661",
          "grade": false,
          "grade_id": "cell-befeb6cc5f3602cb",
          "locked": true,
          "schema_version": 3,
          "solution": false,
          "task": false
        },
        "id": "hb1SJZBf8zgJ"
      },
      "source": [
        "Code a function that benchmarks the following approaches to transform text data into features:\n",
        "* `CountVectorizer(binary=True)`\n",
        "* `CountVectorizer()`\n",
        "* `TfidfVectorizer()`\n",
        "\n",
        "The function must:\n",
        "* Learn and tune models using the function `get_model` you coded for Question 2. As before, use the training data to train and tune models.\n",
        "* Evaluate the models using the function `get_evaluation` you coded for Question 5. As before, use the test data to evaluate the models.\n",
        "* Return a list with the evaluation performance of the three methods. The first element should correspond to `CountVectorizer(binary=True)`, the second element to `CountVectorizer()`, and the third element to `TfidfVectorizer()`."
      ]
    },
    {
      "cell_type": "code",
      "execution_count": null,
      "metadata": {
        "deletable": false,
        "nbgrader": {
          "cell_type": "code",
          "checksum": "5b89db8460be2c53fd02e6a2d612b9c7",
          "grade": false,
          "grade_id": "cell-4939fbc8b308fd40",
          "locked": false,
          "schema_version": 3,
          "solution": true,
          "task": false
        },
        "id": "pGTqBgtK8zgJ"
      },
      "outputs": [],
      "source": [
        "from sklearn import metrics\n",
        "\n",
        "def conduct_benchmark(text_train, text_val, y_train, y_val):\n",
        "    #CODE HERE\n",
        "    performance = []\n",
        "\n",
        "    # transform text to word counts (binary)\n",
        "    binary_vectorizer = CountVectorizer(binary=True)\n",
        "    binary_vectorizer.fit(text_train)\n",
        "    X_binary_train = binary_vectorizer.transform(text_train)\n",
        "    X_binary_holdout = binary_vectorizer.transform(text_holdout)\n",
        "\n",
        "    cvb = get_model(X_binary_train, y_train)\n",
        "    prob_cvb = cvb.predict_proba(X_binary_holdout)[:, 1]\n",
        "    performance.append(get_evaluation(y_holdout, prob_cvb))\n",
        "\n",
        "    # transform text to word counts\n",
        "    count_vectorizer = CountVectorizer()\n",
        "    count_vectorizer.fit(text_train)\n",
        "    X_count_train = count_vectorizer.transform(text_train)\n",
        "    X_count_holdout = count_vectorizer.transform(text_holdout)\n",
        "    \n",
        "    cv = get_model(X_count_train, y_train)\n",
        "    prob_cv = cv.predict_proba(X_count_holdout)[:, 1]\n",
        "    performance.append(get_evaluation(y_holdout, prob_cv))\n",
        "\n",
        "    # transform text to tf-idf\n",
        "    tfidf_vectorizer = TfidfVectorizer()\n",
        "    tfidf_vectorizer.fit(text_train)\n",
        "    X_tfidf_train = tfidf_vectorizer.transform(text_train)\n",
        "    X_tfidf_holdout = tfidf_vectorizer.transform(text_holdout)\n",
        "\n",
        "    tfidf = get_model(X_tfidf_train, y_train)\n",
        "    prob_tfidf = tfidf.predict_proba(X_tfidf_holdout)[:, 1]\n",
        "    performance.append(get_evaluation(y_holdout, prob_tfidf))\n",
        "    return performance\n",
        "    raise NotImplementedError()"
      ]
    },
    {
      "cell_type": "markdown",
      "metadata": {
        "deletable": false,
        "editable": false,
        "nbgrader": {
          "cell_type": "markdown",
          "checksum": "aaa4ae23f657ed1bca09fcac218da100",
          "grade": false,
          "grade_id": "cell-e00a27373b2da974",
          "locked": true,
          "schema_version": 3,
          "solution": false,
          "task": false
        },
        "id": "VpEmY-7A8zgK"
      },
      "source": [
        "Check that your function is returning a list with 3 numbers. "
      ]
    },
    {
      "cell_type": "code",
      "execution_count": null,
      "metadata": {
        "deletable": false,
        "editable": false,
        "nbgrader": {
          "cell_type": "code",
          "checksum": "8a2a60bb8795b0c315b33946dbc99afc",
          "grade": true,
          "grade_id": "cell-bb8bd29be0a354f0",
          "locked": true,
          "points": 3,
          "schema_version": 3,
          "solution": false,
          "task": false
        },
        "id": "-EXXQF9O8zgK",
        "colab": {
          "base_uri": "https://localhost:8080/"
        },
        "outputId": "f58788a1-2b8a-445e-b885-76aa641b9614"
      },
      "outputs": [
        {
          "output_type": "stream",
          "name": "stdout",
          "text": [
            "[0.8643341551703588, 0.8654383026242323, 0.8678975401351325]\n"
          ]
        }
      ],
      "source": [
        "benchmark = conduct_benchmark(text_train, text_holdout, y_train, y_holdout)\n",
        "assert len(benchmark) == 3\n",
        "#print(benchmark)"
      ]
    },
    {
      "cell_type": "markdown",
      "metadata": {
        "deletable": false,
        "editable": false,
        "nbgrader": {
          "cell_type": "markdown",
          "checksum": "2e7152423e3691a1584a93879433bae4",
          "grade": false,
          "grade_id": "cell-9c4cd16f7ec38019",
          "locked": true,
          "schema_version": 3,
          "solution": false,
          "task": false
        },
        "id": "8nJVoyf68zgM"
      },
      "source": [
        "## Question 8: Interpret Benchmark (0.5 points)\n",
        "\n",
        "Take a look at the benchmark results. Do you think the difference in performance is large or small? Why do you think the difference in performance is large/small? Justify your answer."
      ]
    },
    {
      "cell_type": "code",
      "execution_count": null,
      "metadata": {
        "deletable": false,
        "editable": false,
        "nbgrader": {
          "cell_type": "code",
          "checksum": "53dd566e3a34916a8655e0c3614cf9bd",
          "grade": false,
          "grade_id": "cell-0524308e9623674f",
          "locked": true,
          "schema_version": 3,
          "solution": false,
          "task": false
        },
        "id": "fYgz-_Iv8zgN",
        "colab": {
          "base_uri": "https://localhost:8080/",
          "height": 143
        },
        "outputId": "1ec247be-c519-43e8-b31a-6204aae7c903"
      },
      "outputs": [
        {
          "output_type": "execute_result",
          "data": {
            "text/plain": [
              "  Approach  Performance\n",
              "0   binary     0.864334\n",
              "1    count     0.865438\n",
              "2    tfidf     0.867898"
            ],
            "text/html": [
              "\n",
              "  <div id=\"df-5c939e99-a39e-44d3-abf5-76d97f3ffdba\">\n",
              "    <div class=\"colab-df-container\">\n",
              "      <div>\n",
              "<style scoped>\n",
              "    .dataframe tbody tr th:only-of-type {\n",
              "        vertical-align: middle;\n",
              "    }\n",
              "\n",
              "    .dataframe tbody tr th {\n",
              "        vertical-align: top;\n",
              "    }\n",
              "\n",
              "    .dataframe thead th {\n",
              "        text-align: right;\n",
              "    }\n",
              "</style>\n",
              "<table border=\"1\" class=\"dataframe\">\n",
              "  <thead>\n",
              "    <tr style=\"text-align: right;\">\n",
              "      <th></th>\n",
              "      <th>Approach</th>\n",
              "      <th>Performance</th>\n",
              "    </tr>\n",
              "  </thead>\n",
              "  <tbody>\n",
              "    <tr>\n",
              "      <th>0</th>\n",
              "      <td>binary</td>\n",
              "      <td>0.864334</td>\n",
              "    </tr>\n",
              "    <tr>\n",
              "      <th>1</th>\n",
              "      <td>count</td>\n",
              "      <td>0.865438</td>\n",
              "    </tr>\n",
              "    <tr>\n",
              "      <th>2</th>\n",
              "      <td>tfidf</td>\n",
              "      <td>0.867898</td>\n",
              "    </tr>\n",
              "  </tbody>\n",
              "</table>\n",
              "</div>\n",
              "      <button class=\"colab-df-convert\" onclick=\"convertToInteractive('df-5c939e99-a39e-44d3-abf5-76d97f3ffdba')\"\n",
              "              title=\"Convert this dataframe to an interactive table.\"\n",
              "              style=\"display:none;\">\n",
              "        \n",
              "  <svg xmlns=\"http://www.w3.org/2000/svg\" height=\"24px\"viewBox=\"0 0 24 24\"\n",
              "       width=\"24px\">\n",
              "    <path d=\"M0 0h24v24H0V0z\" fill=\"none\"/>\n",
              "    <path d=\"M18.56 5.44l.94 2.06.94-2.06 2.06-.94-2.06-.94-.94-2.06-.94 2.06-2.06.94zm-11 1L8.5 8.5l.94-2.06 2.06-.94-2.06-.94L8.5 2.5l-.94 2.06-2.06.94zm10 10l.94 2.06.94-2.06 2.06-.94-2.06-.94-.94-2.06-.94 2.06-2.06.94z\"/><path d=\"M17.41 7.96l-1.37-1.37c-.4-.4-.92-.59-1.43-.59-.52 0-1.04.2-1.43.59L10.3 9.45l-7.72 7.72c-.78.78-.78 2.05 0 2.83L4 21.41c.39.39.9.59 1.41.59.51 0 1.02-.2 1.41-.59l7.78-7.78 2.81-2.81c.8-.78.8-2.07 0-2.86zM5.41 20L4 18.59l7.72-7.72 1.47 1.35L5.41 20z\"/>\n",
              "  </svg>\n",
              "      </button>\n",
              "      \n",
              "  <style>\n",
              "    .colab-df-container {\n",
              "      display:flex;\n",
              "      flex-wrap:wrap;\n",
              "      gap: 12px;\n",
              "    }\n",
              "\n",
              "    .colab-df-convert {\n",
              "      background-color: #E8F0FE;\n",
              "      border: none;\n",
              "      border-radius: 50%;\n",
              "      cursor: pointer;\n",
              "      display: none;\n",
              "      fill: #1967D2;\n",
              "      height: 32px;\n",
              "      padding: 0 0 0 0;\n",
              "      width: 32px;\n",
              "    }\n",
              "\n",
              "    .colab-df-convert:hover {\n",
              "      background-color: #E2EBFA;\n",
              "      box-shadow: 0px 1px 2px rgba(60, 64, 67, 0.3), 0px 1px 3px 1px rgba(60, 64, 67, 0.15);\n",
              "      fill: #174EA6;\n",
              "    }\n",
              "\n",
              "    [theme=dark] .colab-df-convert {\n",
              "      background-color: #3B4455;\n",
              "      fill: #D2E3FC;\n",
              "    }\n",
              "\n",
              "    [theme=dark] .colab-df-convert:hover {\n",
              "      background-color: #434B5C;\n",
              "      box-shadow: 0px 1px 3px 1px rgba(0, 0, 0, 0.15);\n",
              "      filter: drop-shadow(0px 1px 2px rgba(0, 0, 0, 0.3));\n",
              "      fill: #FFFFFF;\n",
              "    }\n",
              "  </style>\n",
              "\n",
              "      <script>\n",
              "        const buttonEl =\n",
              "          document.querySelector('#df-5c939e99-a39e-44d3-abf5-76d97f3ffdba button.colab-df-convert');\n",
              "        buttonEl.style.display =\n",
              "          google.colab.kernel.accessAllowed ? 'block' : 'none';\n",
              "\n",
              "        async function convertToInteractive(key) {\n",
              "          const element = document.querySelector('#df-5c939e99-a39e-44d3-abf5-76d97f3ffdba');\n",
              "          const dataTable =\n",
              "            await google.colab.kernel.invokeFunction('convertToInteractive',\n",
              "                                                     [key], {});\n",
              "          if (!dataTable) return;\n",
              "\n",
              "          const docLinkHtml = 'Like what you see? Visit the ' +\n",
              "            '<a target=\"_blank\" href=https://colab.research.google.com/notebooks/data_table.ipynb>data table notebook</a>'\n",
              "            + ' to learn more about interactive tables.';\n",
              "          element.innerHTML = '';\n",
              "          dataTable['output_type'] = 'display_data';\n",
              "          await google.colab.output.renderOutput(dataTable, element);\n",
              "          const docLink = document.createElement('div');\n",
              "          docLink.innerHTML = docLinkHtml;\n",
              "          element.appendChild(docLink);\n",
              "        }\n",
              "      </script>\n",
              "    </div>\n",
              "  </div>\n",
              "  "
            ]
          },
          "metadata": {},
          "execution_count": 21
        }
      ],
      "source": [
        "pd.DataFrame({\"Approach\":['binary', 'count', 'tfidf'], \"Performance\":benchmark})"
      ]
    },
    {
      "cell_type": "markdown",
      "metadata": {
        "deletable": false,
        "nbgrader": {
          "cell_type": "markdown",
          "checksum": "c766030d1f96390d5f3c1dcbeb653fcd",
          "grade": true,
          "grade_id": "cell-accf504060b2cc55",
          "locked": false,
          "points": 1,
          "schema_version": 3,
          "solution": true,
          "task": false
        },
        "id": "Ly3F50ST8zgO"
      },
      "source": [
        "**ANSWER HERE**\n",
        "\n",
        "We think the difference in performance is small since the performance difference between the three approaches is less than  0.5%.\n",
        "\n",
        "Due to the result, most of the words (95%) only exist once, and the maximum occurrence number of the word is 6; thus, counting words based on binary or occurrence numbers doesn't matter more in the result. And also, because there's no word showing high frequency in the text, multiplying inverse document frequency doesn't affect much of the solution, that's why the three methods output nearly identical. \n",
        "\n",
        "\n"
      ]
    },
    {
      "cell_type": "code",
      "source": [
        "# Return how many percents of words only shown once\n",
        "1- ((X_count_train - X_binary_train).count_nonzero() / X_count_train.count_nonzero())"
      ],
      "metadata": {
        "colab": {
          "base_uri": "https://localhost:8080/"
        },
        "id": "vRQF0FSPU17K",
        "outputId": "76369e90-926c-4303-f945-44f26f73d0dc"
      },
      "execution_count": null,
      "outputs": [
        {
          "output_type": "execute_result",
          "data": {
            "text/plain": [
              "0.9477358464620166"
            ]
          },
          "metadata": {},
          "execution_count": 52
        }
      ]
    },
    {
      "cell_type": "code",
      "source": [
        "# Return the maximum occurrence\n",
        "X_count_train.max(axis=None, out=None)"
      ],
      "metadata": {
        "colab": {
          "base_uri": "https://localhost:8080/"
        },
        "id": "gxjbMaeeL3Hn",
        "outputId": "7c4cf55a-2c26-4cff-b73c-bb0dc988d67b"
      },
      "execution_count": null,
      "outputs": [
        {
          "output_type": "execute_result",
          "data": {
            "text/plain": [
              "6"
            ]
          },
          "metadata": {},
          "execution_count": 33
        }
      ]
    }
  ],
  "metadata": {
    "anaconda-cloud": {},
    "colab": {
      "provenance": [],
      "toc_visible": true
    },
    "kernelspec": {
      "display_name": "Python 3",
      "language": "python",
      "name": "python3"
    },
    "language_info": {
      "codemirror_mode": {
        "name": "ipython",
        "version": 3
      },
      "file_extension": ".py",
      "mimetype": "text/x-python",
      "name": "python",
      "nbconvert_exporter": "python",
      "pygments_lexer": "ipython3",
      "version": "3.8.8"
    }
  },
  "nbformat": 4,
  "nbformat_minor": 0
}