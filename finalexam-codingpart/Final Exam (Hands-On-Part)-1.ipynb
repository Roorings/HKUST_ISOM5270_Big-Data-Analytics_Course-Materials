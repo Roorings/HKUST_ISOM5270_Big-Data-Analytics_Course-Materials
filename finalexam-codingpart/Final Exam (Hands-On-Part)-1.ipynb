{
 "cells": [
  {
   "cell_type": "markdown",
   "id": "f91124d2",
   "metadata": {},
   "source": [
    "# Final Exam: Hands-On Component\n",
    "\n",
    "This assignment is worth 10% of the final grade (i.e., 50% of the final exam). Please read carefully the following general instructions:\n",
    "\n",
    "- You have 24 hours to submit your answers (from the moment you started the assignment in Canvas) or until December 16th at 11:59 pm, whichever occurs first. Late submissions won't be accepted.\n",
    "- As opposed to previous assignments, the professor and the TA will not provide any guidelines on how to solve this assignment.\n",
    "- You must complete this assignment individually. The punishment for violating this rule is failing the course.\n",
    "- You must not share the assignment's details or your solution with anyone. The punishment for violating this rule is failing the course.\n",
    "\n",
    "\n",
    "# Background\n",
    "\n",
    "You have been hired by the Iron Bank of Braavos (IBB) to improve the sales of their call center. IBB has launched several marketing campaigns in which call-center employees call the bank customers to offer them banking products. IBB's major concern is how to efficiently assign customer support agents across dozens of campaigns. The cost per minute of a call made from the call center is estimated to be \\\\$1, and typical campaigns generate \\\\$0.1 in profits per minute. \n",
    "\n",
    "Your job is to decide which customers to call for the rest of one of the current campaigns, in which credit card insurance is being sold. This insurance product is entirely new, and for now, it is only offered to customers that are contacted by IBB. IBB estimates that the sale of each insurance will generate \\\\$15 in profit after considering all costs not related to the call center.  You have data from a random sample of customers that were called as part of the current campaign, which can be found in the file “insurance-sample.csv”. See the data description below.\n",
    "\n",
    "|Variable|\tDescription|\n",
    "|---|---|\n",
    "|Id|\tCustomer’s unique ID.|\n",
    "|Age|\tCustomer’s age.|\n",
    "|Job|\tCustomer’s job.|\n",
    "|Marital|\tCustomer’s marital status.|\n",
    "|Education|\tCustomer’s education level.|\n",
    "|Default|\tWhether the customer has credit in default.|\n",
    "|Balance|\tAverage annual balance of the customer in $.|\n",
    "|HHInsurance|\tWhether the customer has his/her house insured.|\n",
    "|CarLoan|\tWhether the customer has a vehicle loan.|\n",
    "|Communication|\tMeans of communication with the customer.|\n",
    "|CallDurationSecs|\tDuration of the call (in seconds).|\n",
    "|CardInsurance|\tWhether the customer bought the credit card insurance after the call.| \n",
    "\n",
    "\n",
    "\n",
    "# Assignment\n",
    "\n",
    "Build a data science solution to decide which customers in \"insurance-use.csv\" to contact. Your decisions must be uploaded to Canvas in a file called \"decisions.csv\". The first column must have the header \"Id\" and contain the ID of all the customers in \"insurance-use.csv\". The second column must have the header \"decision\" and contain your decisions for all these customers: use a 1 for customers you decide to contact and a 0 for customers you decide not to contact. For an example of how to produce a file with these characteristics, see the code below. **IMPORTANT**: You will receive no credits if the file you upload does not follow these guidelines, so please be careful.\n",
    "\n",
    "Your grade will depend on the quality of your decisions compared to your classmates. Based on the information provided above, you must use your best judgement to determine what a \"good quality\" decision is. Have fun."
   ]
  },
  {
   "cell_type": "markdown",
   "id": "45b53eec",
   "metadata": {},
   "source": [
    "## Preparation"
   ]
  },
  {
   "cell_type": "code",
   "execution_count": 1,
   "id": "547b2f42",
   "metadata": {
    "ExecuteTime": {
     "end_time": "2022-12-14T07:10:21.773823Z",
     "start_time": "2022-12-14T07:10:19.553189Z"
    }
   },
   "outputs": [],
   "source": [
    "import pandas as pd\n",
    "import seaborn as sns\n",
    "import math\n",
    "import statsmodels.api as sm\n",
    "from pandas.core.common import random_state\n",
    "from sklearn.model_selection import GridSearchCV\n",
    "from sklearn.metrics import make_scorer\n",
    "from sklearn.linear_model import Ridge\n",
    "from sklearn.linear_model import Lasso\n",
    "from sklearn.tree import DecisionTreeRegressor\n",
    "from sklearn.tree import DecisionTreeClassifier \n",
    "from sklearn.linear_model import LogisticRegression \n",
    "import numpy as np"
   ]
  },
  {
   "cell_type": "code",
   "execution_count": 2,
   "id": "f9dfe625",
   "metadata": {
    "ExecuteTime": {
     "end_time": "2022-12-14T07:10:21.800129Z",
     "start_time": "2022-12-14T07:10:21.775441Z"
    }
   },
   "outputs": [
    {
     "data": {
      "text/html": [
       "<div>\n",
       "<style scoped>\n",
       "    .dataframe tbody tr th:only-of-type {\n",
       "        vertical-align: middle;\n",
       "    }\n",
       "\n",
       "    .dataframe tbody tr th {\n",
       "        vertical-align: top;\n",
       "    }\n",
       "\n",
       "    .dataframe thead th {\n",
       "        text-align: right;\n",
       "    }\n",
       "</style>\n",
       "<table border=\"1\" class=\"dataframe\">\n",
       "  <thead>\n",
       "    <tr style=\"text-align: right;\">\n",
       "      <th></th>\n",
       "      <th>Id</th>\n",
       "      <th>Age</th>\n",
       "      <th>Default</th>\n",
       "      <th>Balance</th>\n",
       "      <th>HHInsurance</th>\n",
       "      <th>CarLoan</th>\n",
       "      <th>CallDurationSecs</th>\n",
       "      <th>CardInsurance</th>\n",
       "    </tr>\n",
       "  </thead>\n",
       "  <tbody>\n",
       "    <tr>\n",
       "      <th>count</th>\n",
       "      <td>3500.000000</td>\n",
       "      <td>3500.000000</td>\n",
       "      <td>3500.000000</td>\n",
       "      <td>3500.000000</td>\n",
       "      <td>3500.000000</td>\n",
       "      <td>3500.000000</td>\n",
       "      <td>3500.0000</td>\n",
       "      <td>3500.000000</td>\n",
       "    </tr>\n",
       "    <tr>\n",
       "      <th>mean</th>\n",
       "      <td>1750.500000</td>\n",
       "      <td>41.227429</td>\n",
       "      <td>0.014857</td>\n",
       "      <td>1541.766000</td>\n",
       "      <td>0.493714</td>\n",
       "      <td>0.135429</td>\n",
       "      <td>350.5560</td>\n",
       "      <td>0.400571</td>\n",
       "    </tr>\n",
       "    <tr>\n",
       "      <th>std</th>\n",
       "      <td>1010.507298</td>\n",
       "      <td>11.560655</td>\n",
       "      <td>0.120998</td>\n",
       "      <td>3608.089238</td>\n",
       "      <td>0.500032</td>\n",
       "      <td>0.342230</td>\n",
       "      <td>367.7696</td>\n",
       "      <td>0.490084</td>\n",
       "    </tr>\n",
       "    <tr>\n",
       "      <th>min</th>\n",
       "      <td>1.000000</td>\n",
       "      <td>18.000000</td>\n",
       "      <td>0.000000</td>\n",
       "      <td>-3058.000000</td>\n",
       "      <td>0.000000</td>\n",
       "      <td>0.000000</td>\n",
       "      <td>2.0000</td>\n",
       "      <td>0.000000</td>\n",
       "    </tr>\n",
       "    <tr>\n",
       "      <th>25%</th>\n",
       "      <td>875.750000</td>\n",
       "      <td>32.000000</td>\n",
       "      <td>0.000000</td>\n",
       "      <td>115.500000</td>\n",
       "      <td>0.000000</td>\n",
       "      <td>0.000000</td>\n",
       "      <td>111.7500</td>\n",
       "      <td>0.000000</td>\n",
       "    </tr>\n",
       "    <tr>\n",
       "      <th>50%</th>\n",
       "      <td>1750.500000</td>\n",
       "      <td>39.000000</td>\n",
       "      <td>0.000000</td>\n",
       "      <td>555.000000</td>\n",
       "      <td>0.000000</td>\n",
       "      <td>0.000000</td>\n",
       "      <td>230.0000</td>\n",
       "      <td>0.000000</td>\n",
       "    </tr>\n",
       "    <tr>\n",
       "      <th>75%</th>\n",
       "      <td>2625.250000</td>\n",
       "      <td>49.000000</td>\n",
       "      <td>0.000000</td>\n",
       "      <td>1619.250000</td>\n",
       "      <td>1.000000</td>\n",
       "      <td>0.000000</td>\n",
       "      <td>458.2500</td>\n",
       "      <td>1.000000</td>\n",
       "    </tr>\n",
       "    <tr>\n",
       "      <th>max</th>\n",
       "      <td>3500.000000</td>\n",
       "      <td>92.000000</td>\n",
       "      <td>1.000000</td>\n",
       "      <td>98417.000000</td>\n",
       "      <td>1.000000</td>\n",
       "      <td>1.000000</td>\n",
       "      <td>3533.0000</td>\n",
       "      <td>1.000000</td>\n",
       "    </tr>\n",
       "  </tbody>\n",
       "</table>\n",
       "</div>"
      ],
      "text/plain": [
       "                Id          Age      Default       Balance  HHInsurance  \\\n",
       "count  3500.000000  3500.000000  3500.000000   3500.000000  3500.000000   \n",
       "mean   1750.500000    41.227429     0.014857   1541.766000     0.493714   \n",
       "std    1010.507298    11.560655     0.120998   3608.089238     0.500032   \n",
       "min       1.000000    18.000000     0.000000  -3058.000000     0.000000   \n",
       "25%     875.750000    32.000000     0.000000    115.500000     0.000000   \n",
       "50%    1750.500000    39.000000     0.000000    555.000000     0.000000   \n",
       "75%    2625.250000    49.000000     0.000000   1619.250000     1.000000   \n",
       "max    3500.000000    92.000000     1.000000  98417.000000     1.000000   \n",
       "\n",
       "           CarLoan  CallDurationSecs  CardInsurance  \n",
       "count  3500.000000         3500.0000    3500.000000  \n",
       "mean      0.135429          350.5560       0.400571  \n",
       "std       0.342230          367.7696       0.490084  \n",
       "min       0.000000            2.0000       0.000000  \n",
       "25%       0.000000          111.7500       0.000000  \n",
       "50%       0.000000          230.0000       0.000000  \n",
       "75%       0.000000          458.2500       1.000000  \n",
       "max       1.000000         3533.0000       1.000000  "
      ]
     },
     "execution_count": 2,
     "metadata": {},
     "output_type": "execute_result"
    }
   ],
   "source": [
    "data = pd.read_csv(\"insurance-sample.csv\")\n",
    "data.describe()"
   ]
  },
  {
   "cell_type": "markdown",
   "id": "de6634ab",
   "metadata": {},
   "source": [
    "### Parameter Transformation"
   ]
  },
  {
   "cell_type": "markdown",
   "id": "b3e7f8e6",
   "metadata": {},
   "source": [
    "Default is very skewed, very small number are 1."
   ]
  },
  {
   "cell_type": "code",
   "execution_count": 4,
   "id": "d0fd31aa",
   "metadata": {
    "ExecuteTime": {
     "end_time": "2022-12-14T07:10:21.935059Z",
     "start_time": "2022-12-14T07:10:21.804448Z"
    }
   },
   "outputs": [
    {
     "data": {
      "text/plain": [
       "<AxesSubplot:xlabel='Age', ylabel='Count'>"
      ]
     },
     "execution_count": 4,
     "metadata": {},
     "output_type": "execute_result"
    },
    {
     "data": {
      "image/png": "[encoded data removed]",
      "text/plain": [
       "<Figure size 432x288 with 1 Axes>"
      ]
     },
     "metadata": {
      "needs_background": "light"
     },
     "output_type": "display_data"
    }
   ],
   "source": [
    "data['Age'] = data['Age'].apply(lambda x: math.log(x))\n",
    "sns.histplot(data['Age'])"
   ]
  },
  {
   "cell_type": "code",
   "execution_count": 5,
   "id": "aa0780af",
   "metadata": {
    "ExecuteTime": {
     "end_time": "2022-12-14T07:10:22.087708Z",
     "start_time": "2022-12-14T07:10:21.936096Z"
    }
   },
   "outputs": [
    {
     "data": {
      "text/plain": [
       "<AxesSubplot:xlabel='Balance', ylabel='Count'>"
      ]
     },
     "execution_count": 5,
     "metadata": {},
     "output_type": "execute_result"
    },
    {
     "data": {
      "image/png": "[encoded data removed]",
      "text/plain": [
       "<Figure size 432x288 with 1 Axes>"
      ]
     },
     "metadata": {
      "needs_background": "light"
     },
     "output_type": "display_data"
    }
   ],
   "source": [
    "data['Balance'] = data['Balance'].apply(lambda x: math.log(x) if x>0 else 0 if x==0 else -math.log(-x))\n",
    "sns.histplot(data['Balance'])"
   ]
  },
  {
   "cell_type": "code",
   "execution_count": 6,
   "id": "2c861614",
   "metadata": {
    "ExecuteTime": {
     "end_time": "2022-12-14T07:10:22.097133Z",
     "start_time": "2022-12-14T07:10:22.088682Z"
    }
   },
   "outputs": [],
   "source": [
    "data = pd.get_dummies(data, columns=['Job','Marital','Education','Communication'], drop_first=True) \n",
    "data['profit'] = data['CardInsurance'] * 15 - data['CallDurationSecs'] / 60 * 0.9"
   ]
  },
  {
   "cell_type": "code",
   "execution_count": 7,
   "id": "67d5c665",
   "metadata": {
    "ExecuteTime": {
     "end_time": "2022-12-14T07:10:22.101515Z",
     "start_time": "2022-12-14T07:10:22.098119Z"
    }
   },
   "outputs": [],
   "source": [
    "data.drop(columns=['CallDurationSecs','CardInsurance','Id'], inplace=True)"
   ]
  },
  {
   "cell_type": "code",
   "execution_count": 8,
   "id": "80a47a5c",
   "metadata": {
    "ExecuteTime": {
     "end_time": "2022-12-14T07:10:22.106084Z",
     "start_time": "2022-12-14T07:10:22.102733Z"
    }
   },
   "outputs": [
    {
     "data": {
      "text/plain": [
       "0.3445714285714286"
      ]
     },
     "execution_count": 8,
     "metadata": {},
     "output_type": "execute_result"
    }
   ],
   "source": [
    "(data['profit'] > 0).mean()"
   ]
  },
  {
   "cell_type": "markdown",
   "id": "150a7cef",
   "metadata": {},
   "source": [
    "### Train-Test Seperation"
   ]
  },
  {
   "cell_type": "code",
   "execution_count": 9,
   "id": "fd805463",
   "metadata": {
    "ExecuteTime": {
     "end_time": "2022-12-14T07:10:22.113377Z",
     "start_time": "2022-12-14T07:10:22.107095Z"
    }
   },
   "outputs": [],
   "source": [
    "train_set = data.iloc[:int(len(data)*0.8),]\n",
    "test_set = data.iloc[int(len(data)*0.8):, ]\n",
    "\n",
    "X_train = train_set.iloc[:,:-1]\n",
    "y_train = train_set.iloc[:,-1]\n",
    "X_test = test_set.iloc[:,:-1]\n",
    "y_test = test_set.iloc[:,-1]\n",
    "\n",
    "y_tr = pd.DataFrame(y_train)\n",
    "y_tr['judge'] = y_train>0\n",
    "\n",
    "y_te = pd.DataFrame(y_test)\n",
    "y_te['judge'] = y_test>0"
   ]
  },
  {
   "cell_type": "code",
   "execution_count": 10,
   "id": "7cbdc8eb",
   "metadata": {
    "ExecuteTime": {
     "end_time": "2022-12-14T07:10:22.120128Z",
     "start_time": "2022-12-14T07:10:22.116453Z"
    }
   },
   "outputs": [
    {
     "data": {
      "text/plain": [
       "1965.54"
      ]
     },
     "execution_count": 10,
     "metadata": {},
     "output_type": "execute_result"
    }
   ],
   "source": [
    "y_test[y_test>0].sum()"
   ]
  },
  {
   "cell_type": "markdown",
   "id": "af4754ec",
   "metadata": {},
   "source": [
    "## Regression"
   ]
  },
  {
   "cell_type": "markdown",
   "id": "2dcbd94f",
   "metadata": {},
   "source": [
    "### Multiple Linear Regression"
   ]
  },
  {
   "cell_type": "code",
   "execution_count": 11,
   "id": "8211b011",
   "metadata": {
    "ExecuteTime": {
     "end_time": "2022-12-14T07:10:22.147531Z",
     "start_time": "2022-12-14T07:10:22.121327Z"
    }
   },
   "outputs": [
    {
     "name": "stdout",
     "output_type": "stream",
     "text": [
      "                            OLS Regression Results                            \n",
      "==============================================================================\n",
      "Dep. Variable:                 profit   R-squared:                       0.074\n",
      "Model:                            OLS   Adj. R-squared:                  0.067\n",
      "Method:                 Least Squares   F-statistic:                     10.63\n",
      "Date:                Wed, 14 Dec 2022   Prob (F-statistic):           3.17e-34\n",
      "Time:                        15:10:22   Log-Likelihood:                -9192.1\n",
      "No. Observations:                2800   AIC:                         1.843e+04\n",
      "Df Residuals:                    2778   BIC:                         1.856e+04\n",
      "Df Model:                          21                                         \n",
      "Covariance Type:            nonrobust                                         \n",
      "===========================================================================================\n",
      "                              coef    std err          t      P>|t|      [0.025      0.975]\n",
      "-------------------------------------------------------------------------------------------\n",
      "const                       1.1831      2.406      0.492      0.623      -3.534       5.900\n",
      "Age                         0.0221      0.603      0.037      0.971      -1.160       1.204\n",
      "Default                    -1.2208      1.032     -1.182      0.237      -3.245       0.804\n",
      "Balance                     0.1213      0.036      3.398      0.001       0.051       0.191\n",
      "HHInsurance                -1.8389      0.270     -6.817      0.000      -2.368      -1.310\n",
      "CarLoan                    -1.6830      0.371     -4.542      0.000      -2.409      -0.956\n",
      "Job_blue-collar            -1.2646      0.474     -2.666      0.008      -2.195      -0.334\n",
      "Job_entrepreneur           -1.7555      0.808     -2.173      0.030      -3.339      -0.172\n",
      "Job_housemaid              -0.5455      0.866     -0.630      0.529      -2.245       1.154\n",
      "Job_management             -1.0168      0.507     -2.006      0.045      -2.011      -0.023\n",
      "Job_retired                 1.6955      0.669      2.535      0.011       0.384       3.007\n",
      "Job_self-employed          -1.0854      0.772     -1.406      0.160      -2.599       0.428\n",
      "Job_services               -0.8055      0.554     -1.453      0.146      -1.893       0.282\n",
      "Job_student                 1.8709      0.814      2.299      0.022       0.275       3.466\n",
      "Job_technician             -0.7915      0.466     -1.698      0.090      -1.705       0.122\n",
      "Job_unemployed             -0.1930      0.769     -0.251      0.802      -1.702       1.316\n",
      "Marital_married            -0.3435      0.389     -0.883      0.377      -1.106       0.419\n",
      "Marital_single              0.4099      0.457      0.897      0.370      -0.486       1.306\n",
      "Education_secondary         0.2488      0.369      0.675      0.500      -0.474       0.972\n",
      "Education_tertiary          1.0841      0.456      2.377      0.018       0.190       1.978\n",
      "Communication_other         0.8626      0.308      2.797      0.005       0.258       1.467\n",
      "Communication_telephone     0.6198      0.500      1.239      0.216      -0.361       1.601\n",
      "==============================================================================\n",
      "Omnibus:                      287.990   Durbin-Watson:                   2.067\n",
      "Prob(Omnibus):                  0.000   Jarque-Bera (JB):             1142.880\n",
      "Skew:                          -0.447   Prob(JB):                    6.71e-249\n",
      "Kurtosis:                       5.999   Cond. No.                         147.\n",
      "==============================================================================\n",
      "\n",
      "Notes:\n",
      "[1] Standard Errors assume that the covariance matrix of the errors is correctly specified.\n"
     ]
    },
    {
     "name": "stderr",
     "output_type": "stream",
     "text": [
      "/Users/yilingluo/opt/anaconda3/lib/python3.9/site-packages/statsmodels/tsa/tsatools.py:142: FutureWarning: In a future version of pandas all arguments of concat except for the argument 'objs' will be keyword-only\n",
      "  x = pd.concat(x[::order], 1)\n"
     ]
    }
   ],
   "source": [
    "model1 = sm.OLS(y_train,sm.add_constant(X_train))\n",
    "results1 = model1.fit()\n",
    "print(results1.summary())"
   ]
  },
  {
   "cell_type": "code",
   "execution_count": 12,
   "id": "3cc73bb7",
   "metadata": {
    "ExecuteTime": {
     "end_time": "2022-12-14T07:10:22.156918Z",
     "start_time": "2022-12-14T07:10:22.148740Z"
    }
   },
   "outputs": [
    {
     "name": "stderr",
     "output_type": "stream",
     "text": [
      "/Users/yilingluo/opt/anaconda3/lib/python3.9/site-packages/statsmodels/tsa/tsatools.py:142: FutureWarning: In a future version of pandas all arguments of concat except for the argument 'objs' will be keyword-only\n",
      "  x = pd.concat(x[::order], 1)\n"
     ]
    },
    {
     "data": {
      "text/plain": [
       "775.7178382876898"
      ]
     },
     "execution_count": 12,
     "metadata": {},
     "output_type": "execute_result"
    }
   ],
   "source": [
    "predict1 = results1.predict(sm.add_constant(X_test))\n",
    "predict1[predict1>0].sum()"
   ]
  },
  {
   "cell_type": "code",
   "execution_count": 13,
   "id": "2d232135",
   "metadata": {
    "ExecuteTime": {
     "end_time": "2022-12-14T07:10:22.162714Z",
     "start_time": "2022-12-14T07:10:22.158169Z"
    }
   },
   "outputs": [
    {
     "name": "stdout",
     "output_type": "stream",
     "text": [
      "False_positive:39.86%\n",
      "False_negative:6.29%\n"
     ]
    }
   ],
   "source": [
    "call = predict1 > 0\n",
    "false_positive = (call == True) & (y_te['judge'] == False)    \n",
    "false_negative = (call == False) & (y_te['judge'] == True)\n",
    "fp_error_rate = false_positive.mean()\n",
    "fn_error_rate = false_negative.mean()\n",
    "print(f\"False_positive:{fp_error_rate*100:,.2f}%\")\n",
    "print(f\"False_negative:{fn_error_rate*100:,.2f}%\")"
   ]
  },
  {
   "cell_type": "code",
   "execution_count": 14,
   "id": "97114bdb",
   "metadata": {
    "ExecuteTime": {
     "end_time": "2022-12-14T07:10:22.167228Z",
     "start_time": "2022-12-14T07:10:22.163802Z"
    }
   },
   "outputs": [
    {
     "data": {
      "text/plain": [
       "822.9449999999999"
      ]
     },
     "execution_count": 14,
     "metadata": {},
     "output_type": "execute_result"
    }
   ],
   "source": [
    "y_test[call == True].sum()"
   ]
  },
  {
   "cell_type": "code",
   "execution_count": 15,
   "id": "558ca18c",
   "metadata": {
    "ExecuteTime": {
     "end_time": "2022-12-14T07:10:22.171192Z",
     "start_time": "2022-12-14T07:10:22.168388Z"
    }
   },
   "outputs": [
    {
     "data": {
      "text/plain": [
       "0.6671428571428571"
      ]
     },
     "execution_count": 15,
     "metadata": {},
     "output_type": "execute_result"
    }
   ],
   "source": [
    "call.mean()"
   ]
  },
  {
   "cell_type": "markdown",
   "id": "fd8bf856",
   "metadata": {},
   "source": [
    "### Other Advanced Regression Methods"
   ]
  },
  {
   "cell_type": "code",
   "execution_count": 16,
   "id": "c75dd0df",
   "metadata": {
    "ExecuteTime": {
     "end_time": "2022-12-14T07:10:24.535160Z",
     "start_time": "2022-12-14T07:10:22.172388Z"
    }
   },
   "outputs": [
    {
     "name": "stdout",
     "output_type": "stream",
     "text": [
      "Algorithm : <class 'sklearn.tree._classes.DecisionTreeRegressor'>\n",
      "Best parameters: {'criterion': 'friedman_mse', 'min_samples_leaf': 55}\n",
      "Best score: 0.06\n",
      "Total Profit: 635.0699999999999\n",
      "--------\n",
      "Algorithm : <class 'sklearn.linear_model._ridge.Ridge'>\n",
      "Best parameters: {'alpha': 100.0}\n",
      "Best score: 0.06\n",
      "Total Profit: 780.03\n",
      "--------\n",
      "Algorithm : <class 'sklearn.linear_model._coordinate_descent.Lasso'>\n",
      "Best parameters: {'alpha': 1.0}\n",
      "Best score: 0.01\n",
      "Total Profit: 559.14\n",
      "--------\n"
     ]
    }
   ],
   "source": [
    "# Algorithms\n",
    "ridge_algorithm = Ridge()\n",
    "lasso_algorithm = Lasso()\n",
    "tree_algorithm = DecisionTreeRegressor()\n",
    "\n",
    "# Grids\n",
    "lin_grid = {\"alpha\": [10**i for i in np.arange(0, 5, 0.5)]}\n",
    "tree_grid = {\"min_samples_leaf\": range(1, 67, 3), \n",
    "             \"criterion\":['friedman_mse']#'squared_error', 'absolute_error', \n",
    "             }\n",
    "\n",
    "# Conduct grid searches\n",
    "tree_searcher = GridSearchCV(tree_algorithm, tree_grid, cv=10, scoring = 'r2')\n",
    "ridge_searcher = GridSearchCV(ridge_algorithm, lin_grid, cv=10, scoring = 'r2')\n",
    "lasso_searcher = GridSearchCV(lasso_algorithm, lin_grid, cv=10, scoring = 'r2')\n",
    "\n",
    "# Report results\n",
    "best_algorithm = None\n",
    "best_score = None\n",
    "for searcher in [tree_searcher, ridge_searcher, lasso_searcher]: \n",
    "    searcher.fit(X_train, y_train)\n",
    "    print(f\"Algorithm : {type(searcher.best_estimator_)}\")\n",
    "    print(f\"Best parameters: {searcher.best_params_}\")\n",
    "    print(f\"Best score: {searcher.best_score_:.2f}\")\n",
    "    print(f\"Total Profit: {y_test[searcher.best_estimator_.predict(X_test)>0].sum()}\")\n",
    "    print(\"--------\")\n",
    "    if best_algorithm is None or best_score < searcher.best_score_:\n",
    "        best_algorithm = searcher.best_estimator_\n",
    "        best_paras = searcher.best_params_\n",
    "        best_score = searcher.best_score_"
   ]
  },
  {
   "cell_type": "markdown",
   "id": "e89bdac4",
   "metadata": {},
   "source": [
    "## Classification"
   ]
  },
  {
   "cell_type": "markdown",
   "id": "600c6184",
   "metadata": {},
   "source": [
    "### Logistic Regression"
   ]
  },
  {
   "cell_type": "code",
   "execution_count": 17,
   "id": "1f726cb8",
   "metadata": {
    "ExecuteTime": {
     "end_time": "2022-12-14T07:10:24.632059Z",
     "start_time": "2022-12-14T07:10:24.536326Z"
    }
   },
   "outputs": [
    {
     "name": "stderr",
     "output_type": "stream",
     "text": [
      "/Users/yilingluo/opt/anaconda3/lib/python3.9/site-packages/sklearn/linear_model/_logistic.py:763: ConvergenceWarning: lbfgs failed to converge (status=1):\n",
      "STOP: TOTAL NO. of ITERATIONS REACHED LIMIT.\n",
      "\n",
      "Increase the number of iterations (max_iter) or scale the data as shown in:\n",
      "    https://scikit-learn.org/stable/modules/preprocessing.html\n",
      "Please also refer to the documentation for alternative solver options:\n",
      "    https://scikit-learn.org/stable/modules/linear_model.html#logistic-regression\n",
      "  n_iter_i = _check_optimize_result(\n"
     ]
    }
   ],
   "source": [
    "algorithm = LogisticRegression()\n",
    "model2 = algorithm.fit(X_train, y_tr['judge'])\n",
    "probabilities = model2.predict_proba(X_test)[:,1]\n",
    "#probabilities"
   ]
  },
  {
   "cell_type": "code",
   "execution_count": 18,
   "id": "e941af04",
   "metadata": {
    "ExecuteTime": {
     "end_time": "2022-12-14T07:10:24.646736Z",
     "start_time": "2022-12-14T07:10:24.633294Z"
    }
   },
   "outputs": [],
   "source": [
    "profit = 0\n",
    "threshold = 0\n",
    "for i in range(0,100):\n",
    "    call = probabilities > i/100\n",
    "    if(y_test[call == True].sum() > profit):\n",
    "        profit = y_test[call == True].sum()\n",
    "        threshold =  i/100"
   ]
  },
  {
   "cell_type": "code",
   "execution_count": 19,
   "id": "12a8bacc",
   "metadata": {
    "ExecuteTime": {
     "end_time": "2022-12-14T07:10:24.650796Z",
     "start_time": "2022-12-14T07:10:24.648240Z"
    }
   },
   "outputs": [
    {
     "name": "stdout",
     "output_type": "stream",
     "text": [
      "799.3500000000001\n",
      "0.44\n"
     ]
    }
   ],
   "source": [
    "print(profit)\n",
    "print(threshold)"
   ]
  },
  {
   "cell_type": "code",
   "execution_count": 20,
   "id": "56a69189",
   "metadata": {
    "ExecuteTime": {
     "end_time": "2022-12-14T07:10:24.655189Z",
     "start_time": "2022-12-14T07:10:24.651737Z"
    }
   },
   "outputs": [
    {
     "data": {
      "text/plain": [
       "0.29"
      ]
     },
     "execution_count": 20,
     "metadata": {},
     "output_type": "execute_result"
    }
   ],
   "source": [
    "call = probabilities > threshold\n",
    "call.mean()"
   ]
  },
  {
   "cell_type": "code",
   "execution_count": 21,
   "id": "ee5f6955",
   "metadata": {
    "ExecuteTime": {
     "end_time": "2022-12-14T07:10:24.661093Z",
     "start_time": "2022-12-14T07:10:24.656644Z"
    }
   },
   "outputs": [
    {
     "name": "stdout",
     "output_type": "stream",
     "text": [
      "False_positive:11.71%\n",
      "False_negative:15.86%\n"
     ]
    }
   ],
   "source": [
    "false_positive = (call == True) & (y_te['judge'] == False)    \n",
    "false_negative = (call == False) & (y_te['judge'] == True)\n",
    "fp_error_rate = false_positive.mean()\n",
    "fn_error_rate = false_negative.mean()\n",
    "print(f\"False_positive:{fp_error_rate*100:,.2f}%\")\n",
    "print(f\"False_negative:{fn_error_rate*100:,.2f}%\")"
   ]
  },
  {
   "cell_type": "code",
   "execution_count": 22,
   "id": "bee327dd",
   "metadata": {
    "ExecuteTime": {
     "end_time": "2022-12-14T07:10:24.665982Z",
     "start_time": "2022-12-14T07:10:24.662254Z"
    }
   },
   "outputs": [
    {
     "data": {
      "text/plain": [
       "0.3314285714285714"
      ]
     },
     "execution_count": 22,
     "metadata": {},
     "output_type": "execute_result"
    }
   ],
   "source": [
    "y_te['judge'].mean()"
   ]
  },
  {
   "cell_type": "markdown",
   "id": "601f2152",
   "metadata": {
    "heading_collapsed": true
   },
   "source": [
    "### Other Advanced Classification"
   ]
  },
  {
   "cell_type": "code",
   "execution_count": 23,
   "id": "29c7955f",
   "metadata": {
    "ExecuteTime": {
     "end_time": "2022-12-14T07:10:35.224470Z",
     "start_time": "2022-12-14T07:10:24.667219Z"
    },
    "hidden": true
   },
   "outputs": [
    {
     "name": "stdout",
     "output_type": "stream",
     "text": [
      "Algorithm : <class 'sklearn.tree._classes.DecisionTreeClassifier'>\n",
      "Best parameters: {'ccp_alpha': 0.001, 'criterion': 'gini', 'max_depth': 9, 'max_features': 'auto', 'min_samples_leaf': 16, 'random_state': 0}\n",
      "Best score (negative custom error): 0.69\n",
      "Profit: 786.62\n",
      "--------\n"
     ]
    },
    {
     "name": "stderr",
     "output_type": "stream",
     "text": [
      "/Users/yilingluo/opt/anaconda3/lib/python3.9/site-packages/sklearn/linear_model/_logistic.py:763: ConvergenceWarning: lbfgs failed to converge (status=1):\n",
      "STOP: TOTAL NO. of ITERATIONS REACHED LIMIT.\n",
      "\n",
      "Increase the number of iterations (max_iter) or scale the data as shown in:\n",
      "    https://scikit-learn.org/stable/modules/preprocessing.html\n",
      "Please also refer to the documentation for alternative solver options:\n",
      "    https://scikit-learn.org/stable/modules/linear_model.html#logistic-regression\n",
      "  n_iter_i = _check_optimize_result(\n",
      "/Users/yilingluo/opt/anaconda3/lib/python3.9/site-packages/sklearn/linear_model/_logistic.py:763: ConvergenceWarning: lbfgs failed to converge (status=1):\n",
      "STOP: TOTAL NO. of ITERATIONS REACHED LIMIT.\n",
      "\n",
      "Increase the number of iterations (max_iter) or scale the data as shown in:\n",
      "    https://scikit-learn.org/stable/modules/preprocessing.html\n",
      "Please also refer to the documentation for alternative solver options:\n",
      "    https://scikit-learn.org/stable/modules/linear_model.html#logistic-regression\n",
      "  n_iter_i = _check_optimize_result(\n",
      "/Users/yilingluo/opt/anaconda3/lib/python3.9/site-packages/sklearn/linear_model/_logistic.py:763: ConvergenceWarning: lbfgs failed to converge (status=1):\n",
      "STOP: TOTAL NO. of ITERATIONS REACHED LIMIT.\n",
      "\n",
      "Increase the number of iterations (max_iter) or scale the data as shown in:\n",
      "    https://scikit-learn.org/stable/modules/preprocessing.html\n",
      "Please also refer to the documentation for alternative solver options:\n",
      "    https://scikit-learn.org/stable/modules/linear_model.html#logistic-regression\n",
      "  n_iter_i = _check_optimize_result(\n",
      "/Users/yilingluo/opt/anaconda3/lib/python3.9/site-packages/sklearn/linear_model/_logistic.py:763: ConvergenceWarning: lbfgs failed to converge (status=1):\n",
      "STOP: TOTAL NO. of ITERATIONS REACHED LIMIT.\n",
      "\n",
      "Increase the number of iterations (max_iter) or scale the data as shown in:\n",
      "    https://scikit-learn.org/stable/modules/preprocessing.html\n",
      "Please also refer to the documentation for alternative solver options:\n",
      "    https://scikit-learn.org/stable/modules/linear_model.html#logistic-regression\n",
      "  n_iter_i = _check_optimize_result(\n"
     ]
    },
    {
     "name": "stdout",
     "output_type": "stream",
     "text": [
      "Algorithm : <class 'sklearn.linear_model._logistic.LogisticRegression'>\n",
      "Best parameters: {'C': 1000.0}\n",
      "Best score (negative custom error): 0.68\n",
      "Profit: 550.93\n",
      "--------\n"
     ]
    },
    {
     "name": "stderr",
     "output_type": "stream",
     "text": [
      "/Users/yilingluo/opt/anaconda3/lib/python3.9/site-packages/sklearn/linear_model/_logistic.py:763: ConvergenceWarning: lbfgs failed to converge (status=1):\n",
      "STOP: TOTAL NO. of ITERATIONS REACHED LIMIT.\n",
      "\n",
      "Increase the number of iterations (max_iter) or scale the data as shown in:\n",
      "    https://scikit-learn.org/stable/modules/preprocessing.html\n",
      "Please also refer to the documentation for alternative solver options:\n",
      "    https://scikit-learn.org/stable/modules/linear_model.html#logistic-regression\n",
      "  n_iter_i = _check_optimize_result(\n",
      "/Users/yilingluo/opt/anaconda3/lib/python3.9/site-packages/sklearn/linear_model/_logistic.py:763: ConvergenceWarning: lbfgs failed to converge (status=1):\n",
      "STOP: TOTAL NO. of ITERATIONS REACHED LIMIT.\n",
      "\n",
      "Increase the number of iterations (max_iter) or scale the data as shown in:\n",
      "    https://scikit-learn.org/stable/modules/preprocessing.html\n",
      "Please also refer to the documentation for alternative solver options:\n",
      "    https://scikit-learn.org/stable/modules/linear_model.html#logistic-regression\n",
      "  n_iter_i = _check_optimize_result(\n"
     ]
    }
   ],
   "source": [
    "# Algorithms\n",
    "Tree_algorithm = DecisionTreeClassifier() \n",
    "logreg = LogisticRegression()\n",
    "\n",
    "# Grids\n",
    "tree_grid = {\"min_samples_leaf\": [2, 4, 8, 16, 32, 64], \n",
    "             'max_features': ['auto', 'sqrt', 'log2'],\n",
    "              'ccp_alpha': [0.1, .01, .001],\n",
    "              'max_depth' : [5, 6, 7, 8, 9],\n",
    "              'criterion' :['gini', 'entropy'], \n",
    "             'random_state': [0]\n",
    "             }\n",
    "log_grid={\"C\":np.logspace(-10,3,2)}\n",
    "\n",
    "# Conduct grid searches, since the units of money lost or earned are the same, the costs of FP&FN are considered the same\n",
    "tree_searcher = GridSearchCV(Tree_algorithm, tree_grid, cv=5, scoring = 'accuracy')\n",
    "logreg_cv=GridSearchCV(logreg, log_grid, cv=5, scoring = 'accuracy')\n",
    "\n",
    "# Report results\n",
    "best_algorithm_C = None\n",
    "best_score = None\n",
    "for searcher in [tree_searcher, logreg_cv]:\n",
    "    searcher.fit(X_train, y_tr['judge'])\n",
    "    print(f\"Algorithm : {type(searcher.best_estimator_)}\")\n",
    "    print(f\"Best parameters: {searcher.best_params_}\")\n",
    "    print(f\"Best score (negative custom error): {searcher.best_score_:.2f}\")\n",
    "    print(f\"Profit: {y_test[searcher.best_estimator_.predict(X_test)>0].sum():.2f}\")\n",
    "    print(\"--------\")\n",
    "    if best_algorithm_C is None or best_score < searcher.best_score_:\n",
    "        best_algorithm_C = searcher.best_estimator_\n",
    "        best_paras = searcher.best_params_\n",
    "        best_score = searcher.best_score_"
   ]
  },
  {
   "cell_type": "code",
   "execution_count": null,
   "id": "ba274414",
   "metadata": {
    "hidden": true
   },
   "outputs": [],
   "source": []
  },
  {
   "cell_type": "code",
   "execution_count": null,
   "id": "f8c38315",
   "metadata": {
    "hidden": true
   },
   "outputs": [],
   "source": []
  },
  {
   "cell_type": "code",
   "execution_count": null,
   "id": "a37ec1b2",
   "metadata": {
    "hidden": true
   },
   "outputs": [],
   "source": []
  },
  {
   "cell_type": "code",
   "execution_count": null,
   "id": "0fcf8331",
   "metadata": {
    "hidden": true
   },
   "outputs": [],
   "source": []
  },
  {
   "cell_type": "markdown",
   "id": "cafcded8",
   "metadata": {},
   "source": [
    "## Result"
   ]
  },
  {
   "cell_type": "code",
   "execution_count": 43,
   "id": "08762b76",
   "metadata": {
    "ExecuteTime": {
     "end_time": "2022-12-14T07:12:28.844375Z",
     "start_time": "2022-12-14T07:12:28.832390Z"
    }
   },
   "outputs": [
    {
     "data": {
      "text/html": [
       "<div>\n",
       "<style scoped>\n",
       "    .dataframe tbody tr th:only-of-type {\n",
       "        vertical-align: middle;\n",
       "    }\n",
       "\n",
       "    .dataframe tbody tr th {\n",
       "        vertical-align: top;\n",
       "    }\n",
       "\n",
       "    .dataframe thead th {\n",
       "        text-align: right;\n",
       "    }\n",
       "</style>\n",
       "<table border=\"1\" class=\"dataframe\">\n",
       "  <thead>\n",
       "    <tr style=\"text-align: right;\">\n",
       "      <th></th>\n",
       "      <th>Id</th>\n",
       "      <th>Age</th>\n",
       "      <th>Job</th>\n",
       "      <th>Marital</th>\n",
       "      <th>Education</th>\n",
       "      <th>Default</th>\n",
       "      <th>Balance</th>\n",
       "      <th>HHInsurance</th>\n",
       "      <th>CarLoan</th>\n",
       "      <th>Communication</th>\n",
       "    </tr>\n",
       "  </thead>\n",
       "  <tbody>\n",
       "    <tr>\n",
       "      <th>0</th>\n",
       "      <td>3501</td>\n",
       "      <td>27</td>\n",
       "      <td>admin.</td>\n",
       "      <td>single</td>\n",
       "      <td>secondary</td>\n",
       "      <td>0</td>\n",
       "      <td>1327</td>\n",
       "      <td>0</td>\n",
       "      <td>0</td>\n",
       "      <td>cellular</td>\n",
       "    </tr>\n",
       "    <tr>\n",
       "      <th>1</th>\n",
       "      <td>3502</td>\n",
       "      <td>32</td>\n",
       "      <td>management</td>\n",
       "      <td>single</td>\n",
       "      <td>tertiary</td>\n",
       "      <td>0</td>\n",
       "      <td>2059</td>\n",
       "      <td>0</td>\n",
       "      <td>0</td>\n",
       "      <td>cellular</td>\n",
       "    </tr>\n",
       "    <tr>\n",
       "      <th>2</th>\n",
       "      <td>3503</td>\n",
       "      <td>43</td>\n",
       "      <td>management</td>\n",
       "      <td>married</td>\n",
       "      <td>tertiary</td>\n",
       "      <td>0</td>\n",
       "      <td>2383</td>\n",
       "      <td>0</td>\n",
       "      <td>0</td>\n",
       "      <td>cellular</td>\n",
       "    </tr>\n",
       "    <tr>\n",
       "      <th>3</th>\n",
       "      <td>3504</td>\n",
       "      <td>56</td>\n",
       "      <td>unemployed</td>\n",
       "      <td>married</td>\n",
       "      <td>primary</td>\n",
       "      <td>0</td>\n",
       "      <td>3391</td>\n",
       "      <td>0</td>\n",
       "      <td>0</td>\n",
       "      <td>cellular</td>\n",
       "    </tr>\n",
       "    <tr>\n",
       "      <th>4</th>\n",
       "      <td>3505</td>\n",
       "      <td>25</td>\n",
       "      <td>entrepreneur</td>\n",
       "      <td>single</td>\n",
       "      <td>tertiary</td>\n",
       "      <td>0</td>\n",
       "      <td>347</td>\n",
       "      <td>0</td>\n",
       "      <td>0</td>\n",
       "      <td>cellular</td>\n",
       "    </tr>\n",
       "    <tr>\n",
       "      <th>...</th>\n",
       "      <td>...</td>\n",
       "      <td>...</td>\n",
       "      <td>...</td>\n",
       "      <td>...</td>\n",
       "      <td>...</td>\n",
       "      <td>...</td>\n",
       "      <td>...</td>\n",
       "      <td>...</td>\n",
       "      <td>...</td>\n",
       "      <td>...</td>\n",
       "    </tr>\n",
       "    <tr>\n",
       "      <th>495</th>\n",
       "      <td>3996</td>\n",
       "      <td>28</td>\n",
       "      <td>technician</td>\n",
       "      <td>single</td>\n",
       "      <td>tertiary</td>\n",
       "      <td>0</td>\n",
       "      <td>0</td>\n",
       "      <td>1</td>\n",
       "      <td>0</td>\n",
       "      <td>cellular</td>\n",
       "    </tr>\n",
       "    <tr>\n",
       "      <th>496</th>\n",
       "      <td>3997</td>\n",
       "      <td>49</td>\n",
       "      <td>admin.</td>\n",
       "      <td>divorced</td>\n",
       "      <td>secondary</td>\n",
       "      <td>0</td>\n",
       "      <td>124</td>\n",
       "      <td>1</td>\n",
       "      <td>1</td>\n",
       "      <td>cellular</td>\n",
       "    </tr>\n",
       "    <tr>\n",
       "      <th>497</th>\n",
       "      <td>3998</td>\n",
       "      <td>27</td>\n",
       "      <td>admin.</td>\n",
       "      <td>single</td>\n",
       "      <td>secondary</td>\n",
       "      <td>0</td>\n",
       "      <td>-400</td>\n",
       "      <td>0</td>\n",
       "      <td>1</td>\n",
       "      <td>cellular</td>\n",
       "    </tr>\n",
       "    <tr>\n",
       "      <th>498</th>\n",
       "      <td>3999</td>\n",
       "      <td>36</td>\n",
       "      <td>entrepreneur</td>\n",
       "      <td>single</td>\n",
       "      <td>tertiary</td>\n",
       "      <td>0</td>\n",
       "      <td>658</td>\n",
       "      <td>1</td>\n",
       "      <td>0</td>\n",
       "      <td>cellular</td>\n",
       "    </tr>\n",
       "    <tr>\n",
       "      <th>499</th>\n",
       "      <td>4000</td>\n",
       "      <td>45</td>\n",
       "      <td>services</td>\n",
       "      <td>married</td>\n",
       "      <td>primary</td>\n",
       "      <td>0</td>\n",
       "      <td>137</td>\n",
       "      <td>1</td>\n",
       "      <td>0</td>\n",
       "      <td>other</td>\n",
       "    </tr>\n",
       "  </tbody>\n",
       "</table>\n",
       "<p>500 rows × 10 columns</p>\n",
       "</div>"
      ],
      "text/plain": [
       "       Id  Age           Job   Marital  Education  Default  Balance  \\\n",
       "0    3501   27        admin.    single  secondary        0     1327   \n",
       "1    3502   32    management    single   tertiary        0     2059   \n",
       "2    3503   43    management   married   tertiary        0     2383   \n",
       "3    3504   56    unemployed   married    primary        0     3391   \n",
       "4    3505   25  entrepreneur    single   tertiary        0      347   \n",
       "..    ...  ...           ...       ...        ...      ...      ...   \n",
       "495  3996   28    technician    single   tertiary        0        0   \n",
       "496  3997   49        admin.  divorced  secondary        0      124   \n",
       "497  3998   27        admin.    single  secondary        0     -400   \n",
       "498  3999   36  entrepreneur    single   tertiary        0      658   \n",
       "499  4000   45      services   married    primary        0      137   \n",
       "\n",
       "     HHInsurance  CarLoan Communication  \n",
       "0              0        0      cellular  \n",
       "1              0        0      cellular  \n",
       "2              0        0      cellular  \n",
       "3              0        0      cellular  \n",
       "4              0        0      cellular  \n",
       "..           ...      ...           ...  \n",
       "495            1        0      cellular  \n",
       "496            1        1      cellular  \n",
       "497            0        1      cellular  \n",
       "498            1        0      cellular  \n",
       "499            1        0         other  \n",
       "\n",
       "[500 rows x 10 columns]"
      ]
     },
     "execution_count": 43,
     "metadata": {},
     "output_type": "execute_result"
    }
   ],
   "source": [
    "df_deploy = pd.read_csv(\"insurance-use.csv\")\n",
    "df_deploy"
   ]
  },
  {
   "cell_type": "code",
   "execution_count": 44,
   "id": "43384603",
   "metadata": {
    "ExecuteTime": {
     "end_time": "2022-12-14T07:12:31.389370Z",
     "start_time": "2022-12-14T07:12:31.385060Z"
    }
   },
   "outputs": [],
   "source": [
    "df_deploy['Age'] = df_deploy['Age'].apply(lambda x: math.log(x))\n",
    "df_deploy['Balance'] = df_deploy['Balance'].apply(lambda x: math.log(x) if x>0 else 0 if x==0 else -math.log(-x))"
   ]
  },
  {
   "cell_type": "code",
   "execution_count": 45,
   "id": "102a5304",
   "metadata": {
    "ExecuteTime": {
     "end_time": "2022-12-14T07:12:33.931573Z",
     "start_time": "2022-12-14T07:12:33.925489Z"
    }
   },
   "outputs": [],
   "source": [
    "df_deploy = pd.get_dummies(df_deploy, columns=['Job','Marital','Education','Communication'], drop_first=True) "
   ]
  },
  {
   "cell_type": "code",
   "execution_count": 46,
   "id": "bf101642",
   "metadata": {
    "ExecuteTime": {
     "end_time": "2022-12-14T07:12:36.516367Z",
     "start_time": "2022-12-14T07:12:36.511747Z"
    }
   },
   "outputs": [],
   "source": [
    "df_deploy.drop(columns=['Id'], inplace=True)\n",
    "probabilities = model2.predict_proba(df_deploy)[:,1]"
   ]
  },
  {
   "cell_type": "code",
   "execution_count": 47,
   "id": "507ba5b7",
   "metadata": {
    "ExecuteTime": {
     "end_time": "2022-12-14T07:12:39.424186Z",
     "start_time": "2022-12-14T07:12:39.420699Z"
    }
   },
   "outputs": [
    {
     "data": {
      "text/plain": [
       "140"
      ]
     },
     "execution_count": 47,
     "metadata": {},
     "output_type": "execute_result"
    }
   ],
   "source": [
    "(probabilities > threshold).sum() "
   ]
  },
  {
   "cell_type": "code",
   "execution_count": 49,
   "id": "868b087c",
   "metadata": {
    "ExecuteTime": {
     "end_time": "2022-12-14T07:13:48.422052Z",
     "start_time": "2022-12-14T07:13:48.412420Z"
    }
   },
   "outputs": [],
   "source": [
    "# Example of how to produce the 'decisions.csv' file\n",
    "df_deploy = pd.read_csv(\"insurance-use.csv\")\n",
    "decisions = (probabilities > threshold).astype(int)\n",
    "df_decisions = pd.DataFrame({\"Id\": df_deploy.Id, \"decision\": decisions})\n",
    "df_decisions.to_csv(\"decisions.csv\", index=False)"
   ]
  },
  {
   "cell_type": "markdown",
   "id": "b7ecc48e",
   "metadata": {},
   "source": [
    "The following code is meant to help you verify the decision file is OK. However, it is **your** responsiblity to ensure your file follows the correct format."
   ]
  },
  {
   "cell_type": "code",
   "execution_count": 50,
   "id": "2075d0a2",
   "metadata": {
    "ExecuteTime": {
     "end_time": "2022-12-14T07:14:13.115086Z",
     "start_time": "2022-12-14T07:14:13.091621Z"
    }
   },
   "outputs": [
    {
     "name": "stdout",
     "output_type": "stream",
     "text": [
      "Your file's format seems OK.\n"
     ]
    }
   ],
   "source": [
    "import pandas as pd\n",
    "\n",
    "try:\n",
    "    df_deploy = pd.read_csv(\"insurance-use.csv\")\n",
    "    df_verify = pd.read_csv(\"decisions.csv\")\n",
    "    if len(df_verify.Id) != df_deploy.shape[0]:\n",
    "        print(\"Decision file has the wrong length!\")\n",
    "        raise Exception()\n",
    "    for v in df_verify.decision.value_counts().index.values:\n",
    "        if v not in [0, 1]:\n",
    "            print(\"The decision column does not consist of 0s and 1s!\")\n",
    "            raise Exception()\n",
    "    default_decisions = (df_deploy.Age >= df_deploy.Age.mean()).astype(int)    \n",
    "    if (df_verify.decision == default_decisions).mean() == 1:\n",
    "        print(\"WARNING: You are using the file with the default decisions!\")\n",
    "    print(\"Your file's format seems OK.\")\n",
    "except:\n",
    "    print(\"There's something wrong with your file.\")\n",
    "        "
   ]
  },
  {
   "cell_type": "markdown",
   "id": "ef9246ab",
   "metadata": {},
   "source": [
    "## Upload your Jupyter Notebook\n",
    "\n",
    "You must also upload the Jupyter notebook you used to make decisions. If someone runs your notebook, they should be able to produce the \"decisions.csv\" file you uploaded as part of Question 1. We won't grade your notebook, but we need it in our records in case we need to reproduce your results or verify that you did the assignment individually."
   ]
  }
 ],
 "metadata": {
  "kernelspec": {
   "display_name": "Python 3 (ipykernel)",
   "language": "python",
   "name": "python3"
  },
  "language_info": {
   "codemirror_mode": {
    "name": "ipython",
    "version": 3
   },
   "file_extension": ".py",
   "mimetype": "text/x-python",
   "name": "python",
   "nbconvert_exporter": "python",
   "pygments_lexer": "ipython3",
   "version": "3.9.7"
  },
  "toc": {
   "base_numbering": 1,
   "nav_menu": {},
   "number_sections": true,
   "sideBar": true,
   "skip_h1_title": false,
   "title_cell": "Table of Contents",
   "title_sidebar": "Contents",
   "toc_cell": false,
   "toc_position": {},
   "toc_section_display": true,
   "toc_window_display": true
  },
  "varInspector": {
   "cols": {
    "lenName": 16,
    "lenType": 16,
    "lenVar": 40
   },
   "kernels_config": {
    "python": {
     "delete_cmd_postfix": "",
     "delete_cmd_prefix": "del ",
     "library": "var_list.py",
     "varRefreshCmd": "print(var_dic_list())"
    },
    "r": {
     "delete_cmd_postfix": ") ",
     "delete_cmd_prefix": "rm(",
     "library": "var_list.r",
     "varRefreshCmd": "cat(var_dic_list()) "
    }
   },
   "types_to_exclude": [
    "module",
    "function",
    "builtin_function_or_method",
    "instance",
    "_Feature"
   ],
   "window_display": false
  }
 },
 "nbformat": 4,
 "nbformat_minor": 5
}
